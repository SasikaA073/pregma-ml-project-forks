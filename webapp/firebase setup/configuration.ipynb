{
 "cells": [
  {
   "cell_type": "code",
   "execution_count": 1,
   "metadata": {},
   "outputs": [],
   "source": [
    "import json, toml"
   ]
  },
  {
   "cell_type": "code",
   "execution_count": 2,
   "metadata": {},
   "outputs": [],
   "source": [
    "import json\n",
    "import toml\n",
    "\n",
    "# Your JSON object\n",
    "json_str = '{\"web\":{\"client_id\":\"457198646172-t2f9jg3q5nq87b343a5dedoq5441haos.apps.googleusercontent.com\",\"project_id\":\"pregma-31ee2\",\"auth_uri\":\"https://accounts.google.com/o/oauth2/auth\",\"token_uri\":\"https://oauth2.googleapis.com/token\",\"auth_provider_x509_cert_url\":\"https://www.googleapis.com/oauth2/v1/certs\",\"client_secret\":\"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\"}}'\n",
    "\n",
    "# Convert JSON to Python dict\n",
    "json_dict = json.loads(json_str)\n",
    "\n",
    "# Convert dict to TOML and write to file\n",
    "with open('secrets.toml', 'w') as f:\n",
    "    toml.dump(json_dict, f)\n",
    "    \n"
   ]
  },
  {
   "attachments": {},
   "cell_type": "markdown",
   "metadata": {},
   "source": [
    "### App configuration"
   ]
  },
  {
   "cell_type": "code",
   "execution_count": 3,
   "metadata": {},
   "outputs": [],
   "source": [
    "import streamlit as st\n",
    "import firebase_admin\n",
    "from firebase_admin import credentials, firestore\n",
    "from google.oauth2 import id_token\n",
    "from google.auth.transport import requests\n",
    "import webbrowser"
   ]
  },
  {
   "cell_type": "code",
   "execution_count": 4,
   "metadata": {},
   "outputs": [
    {
     "data": {
      "text/plain": [
       "<firebase_admin.App at 0x25c770d5f90>"
      ]
     },
     "execution_count": 4,
     "metadata": {},
     "output_type": "execute_result"
    }
   ],
   "source": [
    "# Initialize Firebase SDK\n",
    "cred = credentials.Certificate(\"serviceAccountKey.json\")\n",
    "firebase_admin.initialize_app(cred)"
   ]
  },
  {
   "cell_type": "code",
   "execution_count": 5,
   "metadata": {},
   "outputs": [],
   "source": [
    "# Create a reference to the Firestore database\n",
    "db = firestore.client()"
   ]
  },
  {
   "cell_type": "code",
   "execution_count": 6,
   "metadata": {},
   "outputs": [],
   "source": [
    "# You will need to create a Google OAuth2 client using the client ID and secret you obtained earlier\n",
    "from requests_oauthlib import OAuth2Session"
   ]
  },
  {
   "cell_type": "code",
   "execution_count": 13,
   "metadata": {},
   "outputs": [
    {
     "data": {
      "text/plain": [
       "'d:\\\\Unity_intellihack3\\\\webapp\\\\firebase setup\\\\.streamlit\\\\secrets.toml'"
      ]
     },
     "execution_count": 13,
     "metadata": {},
     "output_type": "execute_result"
    }
   ],
   "source": [
    "st.secrets._file_paths[1]"
   ]
  },
  {
   "cell_type": "code",
   "execution_count": 15,
   "metadata": {},
   "outputs": [],
   "source": [
    "import google.auth\n",
    "import google.auth.transport.requests\n",
    "import google.oauth2.credentials"
   ]
  },
  {
   "cell_type": "code",
   "execution_count": 18,
   "metadata": {},
   "outputs": [
    {
     "ename": "TypeError",
     "evalue": "Credentials.from_authorized_user_info() got an unexpected keyword argument 'client_id'",
     "output_type": "error",
     "traceback": [
      "\u001b[1;31m---------------------------------------------------------------------------\u001b[0m",
      "\u001b[1;31mTypeError\u001b[0m                                 Traceback (most recent call last)",
      "Cell \u001b[1;32mIn [18], line 11\u001b[0m\n\u001b[0;32m      8\u001b[0m redirect_uri \u001b[39m=\u001b[39m \u001b[39m'\u001b[39m\u001b[39murn:ietf:wg:oauth:2.0:oob\u001b[39m\u001b[39m'\u001b[39m\n\u001b[0;32m     10\u001b[0m \u001b[39m# Get the user's credentials\u001b[39;00m\n\u001b[1;32m---> 11\u001b[0m creds \u001b[39m=\u001b[39m google\u001b[39m.\u001b[39moauth2\u001b[39m.\u001b[39mcredentials\u001b[39m.\u001b[39mCredentials\u001b[39m.\u001b[39mfrom_authorized_user_info(info\u001b[39m=\u001b[39m\u001b[39mNone\u001b[39;00m, client_id\u001b[39m=\u001b[39mclient_id, client_secret\u001b[39m=\u001b[39mclient_secret)\n\u001b[0;32m     13\u001b[0m \u001b[39m# Create an authorized session using the user's credentials\u001b[39;00m\n\u001b[0;32m     14\u001b[0m client \u001b[39m=\u001b[39m google\u001b[39m.\u001b[39mauth\u001b[39m.\u001b[39mtransport\u001b[39m.\u001b[39mrequests\u001b[39m.\u001b[39mAuthorizedSession(credentials\u001b[39m=\u001b[39mcreds)\n",
      "\u001b[1;31mTypeError\u001b[0m: Credentials.from_authorized_user_info() got an unexpected keyword argument 'client_id'"
     ]
    }
   ],
   "source": [
    "import google.auth\n",
    "import google.auth.transport.requests\n",
    "import google.oauth2.credentials\n",
    "\n",
    "# Set up the client credentials\n",
    "client_id = \"457198646172-t2f9jg3q5nq87b343a5dedoq5441haos.apps.googleusercontent.com\"\n",
    "client_secret = \"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\"\n",
    "redirect_uri = 'urn:ietf:wg:oauth:2.0:oob'\n",
    "\n",
    "# Get the user's credentials\n",
    "creds = google.oauth2.credentials.Credentials.from_authorized_user_info(info=None, client_id=client_id, client_secret=client_secret)\n",
    "\n",
    "# Create an authorized session using the user's credentials\n",
    "client = google.auth.transport.requests.AuthorizedSession(credentials=creds)\n"
   ]
  }
 ],
 "metadata": {
  "kernelspec": {
   "display_name": "Python 3",
   "language": "python",
   "name": "python3"
  },
  "language_info": {
   "codemirror_mode": {
    "name": "ipython",
    "version": 3
   },
   "file_extension": ".py",
   "mimetype": "text/x-python",
   "name": "python",
   "nbconvert_exporter": "python",
   "pygments_lexer": "ipython3",
   "version": "3.10.7"
  },
  "orig_nbformat": 4,
  "vscode": {
   "interpreter": {
    "hash": "ad5481173928e125f3fdb4f3311da346b2650b40328f2fe78d4d2fd439336ee1"
   }
  }
 },
 "nbformat": 4,
 "nbformat_minor": 2
}
