{
 "cells": [
  {
   "cell_type": "code",
   "execution_count": 10,
   "metadata": {},
   "outputs": [],
   "source": [
    "from deta import Deta\n",
    "import os\n",
    "from dotenv import load_dotenv\n",
    "from classes import Patient\n",
    "import pickle"
   ]
  },
  {
   "cell_type": "code",
   "execution_count": 2,
   "metadata": {},
   "outputs": [],
   "source": [
    "# Load your Deta project key from an environment variable\n",
    "# load_dotenv(\".env\")\n",
    "# DETA_KEY = os.getenv('DETA_PROJECT_KEY') \n",
    "DETA_KEY = \"d0E7NcjK5X8P_RVUiBBKMe36JY7P9pen6WsDBawji3GTM\""
   ]
  },
  {
   "cell_type": "code",
   "execution_count": 3,
   "metadata": {},
   "outputs": [],
   "source": [
    "# Initialize Deta with a project key\n",
    "deta = Deta(DETA_KEY)\n",
    "\n",
    "# create a DB and connect it\n",
    "patients_db = deta.Base(\"patients_db\")"
   ]
  },
  {
   "cell_type": "code",
   "execution_count": 14,
   "metadata": {},
   "outputs": [],
   "source": [
    "# Load ML model\n",
    "ml_model_name = \"ml_models/month1_model.pkl\"\n",
    "model = pickle.load(open(ml_model_name, 'rb'))"
   ]
  },
  {
   "attachments": {},
   "cell_type": "markdown",
   "metadata": {},
   "source": [
    "## Functions for CRUD operations"
   ]
  },
  {
   "cell_type": "markdown",
   "metadata": {},
   "source": [
    "Create"
   ]
  },
  {
   "cell_type": "code",
   "execution_count": 4,
   "metadata": {},
   "outputs": [],
   "source": [
    "# Insert data\n",
    "def insert_patient(patient_id, first_name, last_name, nic, age, blood_group, mobile_number, month, month_data):\n",
    "    patients_db.insert({\n",
    "        \"key\": patient_id,\n",
    "        \"first_name\": first_name,\n",
    "        \"last_name\": last_name,\n",
    "        \"nic\": nic,\n",
    "        # \"date_of_birth\": date_of_birth,\n",
    "        \"age\":age,\n",
    "        \"blood_group\": blood_group,\n",
    "        \"mobile_number\": mobile_number,\n",
    "        \n",
    "        \n",
    "    })\n",
    "\n",
    "\n",
    "\n",
    "# insert_patient(\"P001\", \"Kamala\", 25, 1)\n",
    "# insert_patient(\"P002\", \"Nimala\", 30, 2)\n"
   ]
  },
  {
   "attachments": {},
   "cell_type": "markdown",
   "metadata": {},
   "source": [
    "Read"
   ]
  },
  {
   "cell_type": "code",
   "execution_count": 6,
   "metadata": {},
   "outputs": [],
   "source": [
    "# Get data\n",
    "def get_patient(patient_id):\n",
    "    return patients_db.get(patient_id)\n",
    "\n",
    "# print(get_patient(\"P001\"))\n",
    "\n",
    "# Fetch all data\n",
    "def get_all_patients():\n",
    "    return patients_db.fetch().items"
   ]
  },
  {
   "attachments": {},
   "cell_type": "markdown",
   "metadata": {},
   "source": [
    "Update data"
   ]
  },
  {
   "cell_type": "code",
   "execution_count": 8,
   "metadata": {},
   "outputs": [
    {
     "ename": "SyntaxError",
     "evalue": "invalid syntax (1614020111.py, line 4)",
     "output_type": "error",
     "traceback": [
      "\u001b[1;36m  Cell \u001b[1;32mIn [8], line 4\u001b[1;36m\u001b[0m\n\u001b[1;33m    if keyword ==\u001b[0m\n\u001b[1;37m                  ^\u001b[0m\n\u001b[1;31mSyntaxError\u001b[0m\u001b[1;31m:\u001b[0m invalid syntax\n"
     ]
    }
   ],
   "source": [
    "\n",
    "# Update data\n",
    "\n",
    "def update_patient(patient_id, patient_name, patient_age, month):\n",
    "    patients_db.put({\n",
    "        \"key\": patient_id,\n",
    "        \"patient_name\": patient_name,\n",
    "        \"patient_age\": patient_age,\n",
    "        \"month\": month\n",
    "    })\n"
   ]
  },
  {
   "attachments": {},
   "cell_type": "markdown",
   "metadata": {},
   "source": [
    "Delete data"
   ]
  },
  {
   "cell_type": "code",
   "execution_count": 7,
   "metadata": {},
   "outputs": [],
   "source": [
    "# Delete data\n",
    "def delete_patient(patient_id):\n",
    "    patients_db.delete(patient_id)\n",
    "\n",
    "# delete_patient(\"P002\")"
   ]
  },
  {
   "cell_type": "code",
   "execution_count": 9,
   "metadata": {},
   "outputs": [],
   "source": [
    "delete_patient(\"P001\")"
   ]
  }
 ],
 "metadata": {
  "kernelspec": {
   "display_name": "Python 3",
   "language": "python",
   "name": "python3"
  },
  "language_info": {
   "codemirror_mode": {
    "name": "ipython",
    "version": 3
   },
   "file_extension": ".py",
   "mimetype": "text/x-python",
   "name": "python",
   "nbconvert_exporter": "python",
   "pygments_lexer": "ipython3",
   "version": "3.10.7"
  },
  "orig_nbformat": 4,
  "vscode": {
   "interpreter": {
    "hash": "ad5481173928e125f3fdb4f3311da346b2650b40328f2fe78d4d2fd439336ee1"
   }
  }
 },
 "nbformat": 4,
 "nbformat_minor": 2
}
