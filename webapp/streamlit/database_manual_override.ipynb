{
 "cells": [
  {
   "cell_type": "code",
   "execution_count": 2,
   "metadata": {},
   "outputs": [],
   "source": [
    "from deta import Deta\n",
    "import os\n",
    "from dotenv import load_dotenv\n",
    "from classes import Patient\n",
    "import pickle"
   ]
  },
  {
   "cell_type": "code",
   "execution_count": 3,
   "metadata": {},
   "outputs": [],
   "source": [
    "# Load your Deta project key from an environment variable\n",
    "# load_dotenv(\".env\")\n",
    "# DETA_KEY = os.getenv('DETA_PROJECT_KEY') \n",
    "DETA_KEY = \"d0E7NcjK5X8P_RVUiBBKMe36JY7P9pen6WsDBawji3GTM\""
   ]
  },
  {
   "cell_type": "code",
   "execution_count": 4,
   "metadata": {},
   "outputs": [],
   "source": [
    "# Initialize Deta with a project key\n",
    "deta = Deta(DETA_KEY)\n",
    "\n",
    "# create a DB and connect it\n",
    "patients_db = deta.Base(\"patients_db\")"
   ]
  },
  {
   "cell_type": "code",
   "execution_count": 5,
   "metadata": {},
   "outputs": [
    {
     "ename": "FileNotFoundError",
     "evalue": "[Errno 2] No such file or directory: 'ml_models/month1_model.pkl'",
     "output_type": "error",
     "traceback": [
      "\u001b[1;31m---------------------------------------------------------------------------\u001b[0m",
      "\u001b[1;31mFileNotFoundError\u001b[0m                         Traceback (most recent call last)",
      "Cell \u001b[1;32mIn [5], line 3\u001b[0m\n\u001b[0;32m      1\u001b[0m \u001b[39m# Load ML model\u001b[39;00m\n\u001b[0;32m      2\u001b[0m ml_model_name \u001b[39m=\u001b[39m \u001b[39m\"\u001b[39m\u001b[39mml_models/month1_model.pkl\u001b[39m\u001b[39m\"\u001b[39m\n\u001b[1;32m----> 3\u001b[0m ml_model \u001b[39m=\u001b[39m pickle\u001b[39m.\u001b[39mload(\u001b[39mopen\u001b[39m(ml_model_name, \u001b[39m'\u001b[39m\u001b[39mrb\u001b[39m\u001b[39m'\u001b[39m))\n",
      "\u001b[1;31mFileNotFoundError\u001b[0m: [Errno 2] No such file or directory: 'ml_models/month1_model.pkl'"
     ]
    }
   ],
   "source": [
    "# Load ML model\n",
    "ml_model_name = \"ml_models/month1_model.pkl\"\n",
    "ml_model = pickle.load(open(ml_model_name, 'rb'))"
   ]
  },
  {
   "cell_type": "code",
   "execution_count": null,
   "metadata": {},
   "outputs": [],
   "source": [
    "# A dictionary to map the output of the model to the risk level\n",
    "risk_level_dict = {1:\"Low risk\", 2:\"Medium risk\", 3:\"High risk\"}\n"
   ]
  },
  {
   "cell_type": "code",
   "execution_count": null,
   "metadata": {},
   "outputs": [],
   "source": [
    "X_data = [20, 120, 80, 120, 37, 80]"
   ]
  },
  {
   "cell_type": "code",
   "execution_count": null,
   "metadata": {},
   "outputs": [
    {
     "ename": "NameError",
     "evalue": "name 'ml_model' is not defined",
     "output_type": "error",
     "traceback": [
      "\u001b[1;31m---------------------------------------------------------------------------\u001b[0m",
      "\u001b[1;31mNameError\u001b[0m                                 Traceback (most recent call last)",
      "Cell \u001b[1;32mIn [7], line 1\u001b[0m\n\u001b[1;32m----> 1\u001b[0m pred \u001b[39m=\u001b[39m ml_model\u001b[39m.\u001b[39mpredict([X_data])\n\u001b[0;32m      3\u001b[0m prediction \u001b[39m=\u001b[39m risk_level_dict[pred[\u001b[39m0\u001b[39m]]\n\u001b[0;32m      4\u001b[0m \u001b[39mprint\u001b[39m(prediction)\n",
      "\u001b[1;31mNameError\u001b[0m: name 'ml_model' is not defined"
     ]
    }
   ],
   "source": [
    "pred = ml_model.predict([X_data])\n",
    "\n",
    "prediction = risk_level_dict[pred[0]]\n",
    "print(prediction)"
   ]
  },
  {
   "cell_type": "code",
   "execution_count": null,
   "metadata": {},
   "outputs": [
    {
     "data": {
      "text/plain": [
       "'2023-05-06 00:09:07.306271'"
      ]
     },
     "execution_count": 24,
     "metadata": {},
     "output_type": "execute_result"
    }
   ],
   "source": [
    "import datetime \n",
    "date = str(datetime.datetime.now())\n",
    "date"
   ]
  },
  {
   "attachments": {},
   "cell_type": "markdown",
   "metadata": {},
   "source": [
    "## Functions for CRUD operations"
   ]
  },
  {
   "cell_type": "markdown",
   "metadata": {},
   "source": [
    "Create"
   ]
  },
  {
   "cell_type": "code",
   "execution_count": null,
   "metadata": {},
   "outputs": [],
   "source": [
    "# Insert data\n",
    "def insert_patient(patient_id, first_name, last_name, nic, age, blood_group, mobile_number, month,systolicBP, diastolicBP, blood_sugar, body_temp, heart_rate, prediction, date):\n",
    "    patients_db.insert({\n",
    "        \"key\": patient_id,\n",
    "        \"first_name\": first_name,\n",
    "        \"last_name\": last_name,\n",
    "        \"nic\": nic,\n",
    "        # \"date_of_birth\": date_of_birth,\n",
    "        \"age\":age,\n",
    "        \"blood_group\": blood_group,\n",
    "        \"mobile_number\": mobile_number,\n",
    "        \"month\":month,\n",
    "        \"systolicBP\":systolicBP,\n",
    "        \"diastolicBP\":diastolicBP,\n",
    "        \"blood_sugar\":blood_sugar,\n",
    "        \"body_temp\":body_temp,\n",
    "        \"heart_rate\":heart_rate,\n",
    "        \"prediction\":prediction,\n",
    "        \"date\":date         \n",
    "    })\n",
    "\n",
    "\n",
    "\n",
    "# insert_patient(\"P001\", \"Kamala\", 25, 1)\n",
    "# insert_patient(\"P002\", \"Nimala\", 30, 2)\n"
   ]
  },
  {
   "attachments": {},
   "cell_type": "markdown",
   "metadata": {},
   "source": [
    "Read"
   ]
  },
  {
   "cell_type": "code",
   "execution_count": null,
   "metadata": {},
   "outputs": [],
   "source": [
    "# Get data\n",
    "def get_patient(patient_id):\n",
    "    return patients_db.get(patient_id)\n",
    "\n",
    "# print(get_patient(\"P001\"))\n",
    "\n",
    "# Fetch all data\n",
    "def get_all_patients():\n",
    "    return patients_db.fetch().items"
   ]
  },
  {
   "cell_type": "code",
   "execution_count": null,
   "metadata": {},
   "outputs": [],
   "source": [
    "l = get_all_patients()"
   ]
  },
  {
   "cell_type": "code",
   "execution_count": null,
   "metadata": {},
   "outputs": [
    {
     "data": {
      "text/plain": [
       "[{'age': '30',\n",
       "  'blood_group': 'A+',\n",
       "  'blood_sugar': '78',\n",
       "  'body_temp': '38',\n",
       "  'date': '2023-05-06',\n",
       "  'diastolicBP': '90',\n",
       "  'first_name': 'ghjkl',\n",
       "  'heart_rate': '60',\n",
       "  'key': '456',\n",
       "  'last_name': 'ghjk',\n",
       "  'mobile_number': '4567890',\n",
       "  'month': '1',\n",
       "  'nic': '4567890-',\n",
       "  'prediction': 'High risk',\n",
       "  'systolicBP': '110'},\n",
       " {'age': '25',\n",
       "  'blood_group': 'A+',\n",
       "  'blood_sugar': '120',\n",
       "  'body_temp': '37',\n",
       "  'date': '2023-05-06',\n",
       "  'diastolicBP': '80',\n",
       "  'first_name': 'serwer',\n",
       "  'heart_rate': '80',\n",
       "  'key': 'p005',\n",
       "  'last_name': '23434324',\n",
       "  'mobile_number': '3424234',\n",
       "  'month': '1',\n",
       "  'nic': 'eqeqweqwe',\n",
       "  'prediction': 'Medium risk',\n",
       "  'systolicBP': '120'},\n",
       " {'age': '25',\n",
       "  'blood_group': 'A+',\n",
       "  'blood_sugar': '123',\n",
       "  'body_temp': '38',\n",
       "  'date': '2023-05-06',\n",
       "  'diastolicBP': '89',\n",
       "  'first_name': 'serwer',\n",
       "  'heart_rate': '90',\n",
       "  'key': 'p007',\n",
       "  'last_name': '23434324',\n",
       "  'mobile_number': '3424234',\n",
       "  'month': '1',\n",
       "  'nic': 'eqeqweqwe',\n",
       "  'prediction': 'Medium risk',\n",
       "  'systolicBP': '123'},\n",
       " {'age': '25',\n",
       "  'blood_group': 'A+',\n",
       "  'blood_sugar': '135',\n",
       "  'body_temp': '40',\n",
       "  'diastolicBP': '89',\n",
       "  'first_name': 'serwer',\n",
       "  'heart_rate': '120',\n",
       "  'key': 'p008',\n",
       "  'last_name': '23434324',\n",
       "  'mobile_number': '3424234',\n",
       "  'month': '1',\n",
       "  'nic': 'eqeqweqwe',\n",
       "  'prediction': 'Medium risk',\n",
       "  'systolicBP': '123'},\n",
       " {'age': '25',\n",
       "  'blood_group': 'A+',\n",
       "  'blood_sugar': '90',\n",
       "  'body_temp': '39',\n",
       "  'date': '2023-05-06',\n",
       "  'diastolicBP': '89',\n",
       "  'first_name': 'serwer',\n",
       "  'heart_rate': '80',\n",
       "  'key': 'p011',\n",
       "  'last_name': '23434324',\n",
       "  'mobile_number': '3424234',\n",
       "  'month': '1',\n",
       "  'nic': 'eqeqweqwe',\n",
       "  'prediction': 'Medium risk',\n",
       "  'systolicBP': '123'},\n",
       " {'age': '12',\n",
       "  'blood_group': 'B+',\n",
       "  'blood_sugar': '98',\n",
       "  'body_temp': '37',\n",
       "  'date': '2023-05-06',\n",
       "  'diastolicBP': '89',\n",
       "  'first_name': 'Piyumi',\n",
       "  'heart_rate': '89',\n",
       "  'key': 'p012',\n",
       "  'last_name': 'samaranayake',\n",
       "  'mobile_number': '076334342324',\n",
       "  'month': '1',\n",
       "  'nic': '1312312313',\n",
       "  'prediction': 'Medium risk',\n",
       "  'systolicBP': '120'},\n",
       " {'age': '35',\n",
       "  'blood_group': 'AB-',\n",
       "  'blood_sugar': '120',\n",
       "  'body_temp': '37',\n",
       "  'date': '2023-05-06',\n",
       "  'diastolicBP': '89',\n",
       "  'first_name': 'sfesr324',\n",
       "  'heart_rate': '90',\n",
       "  'key': 'p013',\n",
       "  'last_name': 'sdfsdf',\n",
       "  'mobile_number': '3424324',\n",
       "  'month': '1',\n",
       "  'nic': '234234',\n",
       "  'prediction': 'Medium risk',\n",
       "  'systolicBP': '120'},\n",
       " {'age': '35',\n",
       "  'blood_group': 'B-',\n",
       "  'blood_sugar': '100',\n",
       "  'body_temp': '37',\n",
       "  'date': '2023-05-06',\n",
       "  'diastolicBP': '95',\n",
       "  'first_name': 'Piyumi',\n",
       "  'heart_rate': '90',\n",
       "  'key': 'p014',\n",
       "  'last_name': 'Rathnayake',\n",
       "  'mobile_number': '1245363636',\n",
       "  'month': '1',\n",
       "  'nic': '1244545366',\n",
       "  'prediction': 'Medium risk',\n",
       "  'systolicBP': '135'},\n",
       " {'age': '30',\n",
       "  'blood_group': 'A-',\n",
       "  'blood_sugar': '100',\n",
       "  'body_temp': '37',\n",
       "  'date': '2023-05-06',\n",
       "  'diastolicBP': '95',\n",
       "  'first_name': 'Sahani',\n",
       "  'heart_rate': '90',\n",
       "  'key': 'p015',\n",
       "  'last_name': 'Rathnayake',\n",
       "  'mobile_number': '1245363636',\n",
       "  'month': '1',\n",
       "  'nic': '1244545366',\n",
       "  'prediction': 'High risk',\n",
       "  'systolicBP': '135'},\n",
       " {'age': '35',\n",
       "  'blood_group': 'AB-',\n",
       "  'blood_sugar': '98',\n",
       "  'body_temp': '38',\n",
       "  'date': '2023-05-06',\n",
       "  'diastolicBP': '89',\n",
       "  'first_name': 'Hansika',\n",
       "  'heart_rate': '100',\n",
       "  'key': 'p016',\n",
       "  'last_name': 'Rathnayake',\n",
       "  'mobile_number': '231234321342',\n",
       "  'month': '1',\n",
       "  'nic': '324245253',\n",
       "  'prediction': 'High risk',\n",
       "  'systolicBP': '122'}]"
      ]
     },
     "execution_count": 12,
     "metadata": {},
     "output_type": "execute_result"
    }
   ],
   "source": [
    "l"
   ]
  },
  {
   "cell_type": "code",
   "execution_count": null,
   "metadata": {},
   "outputs": [],
   "source": [
    "a = [1,2,3]"
   ]
  },
  {
   "cell_type": "code",
   "execution_count": null,
   "metadata": {},
   "outputs": [
    {
     "data": {
      "text/plain": [
       "<function list.index(value, start=0, stop=9223372036854775807, /)>"
      ]
     },
     "execution_count": 35,
     "metadata": {},
     "output_type": "execute_result"
    }
   ],
   "source": [
    "a.index"
   ]
  },
  {
   "cell_type": "code",
   "execution_count": null,
   "metadata": {},
   "outputs": [
    {
     "data": {
      "text/plain": [
       "{'age': '25',\n",
       " 'blood_group': 'A+',\n",
       " 'blood_sugar': '123',\n",
       " 'body_temp': '38',\n",
       " 'diastolicBP': '89',\n",
       " 'first_name': 'serwer',\n",
       " 'heart_rate': '90',\n",
       " 'key': 'p007',\n",
       " 'last_name': '23434324',\n",
       " 'mobile_number': '3424234',\n",
       " 'month': '1',\n",
       " 'nic': 'eqeqweqwe',\n",
       " 'prediction': 'Medium risk',\n",
       " 'systolicBP': '123'}"
      ]
     },
     "execution_count": 28,
     "metadata": {},
     "output_type": "execute_result"
    }
   ],
   "source": [
    "l[1]"
   ]
  },
  {
   "attachments": {},
   "cell_type": "markdown",
   "metadata": {},
   "source": [
    "Update data"
   ]
  },
  {
   "cell_type": "code",
   "execution_count": null,
   "metadata": {},
   "outputs": [
    {
     "ename": "SyntaxError",
     "evalue": "invalid syntax (1614020111.py, line 4)",
     "output_type": "error",
     "traceback": [
      "\u001b[1;36m  Cell \u001b[1;32mIn [8], line 4\u001b[1;36m\u001b[0m\n\u001b[1;33m    if keyword ==\u001b[0m\n\u001b[1;37m                  ^\u001b[0m\n\u001b[1;31mSyntaxError\u001b[0m\u001b[1;31m:\u001b[0m invalid syntax\n"
     ]
    }
   ],
   "source": [
    "\n",
    "# Update data\n",
    "\n",
    "def update_patient(patient_id, patient_name, patient_age, month):\n",
    "    patients_db.put({\n",
    "        \"key\": patient_id,\n",
    "        \"patient_name\": patient_name,\n",
    "        \"patient_age\": patient_age,\n",
    "        \"month\": month\n",
    "    })\n"
   ]
  },
  {
   "attachments": {},
   "cell_type": "markdown",
   "metadata": {},
   "source": [
    "Delete data"
   ]
  },
  {
   "cell_type": "code",
   "execution_count": null,
   "metadata": {},
   "outputs": [],
   "source": [
    "# Delete data\n",
    "def delete_patient(patient_id):\n",
    "    patients_db.delete(patient_id)\n",
    "\n",
    "# delete_patient(\"P002\")"
   ]
  },
  {
   "cell_type": "code",
   "execution_count": null,
   "metadata": {},
   "outputs": [],
   "source": [
    "print()"
   ]
  },
  {
   "cell_type": "code",
   "execution_count": null,
   "metadata": {},
   "outputs": [],
   "source": [
    "for i in range(1,20):\n",
    "    try:\n",
    "        delete_patient(f\"p{'0'*(3-len(str(i)))+str(i)}\")\n",
    "    except Exception as e:\n",
    "        print(e)"
   ]
  },
  {
   "cell_type": "code",
   "execution_count": null,
   "metadata": {},
   "outputs": [
    {
     "ename": "NameError",
     "evalue": "name 'delete_patient' is not defined",
     "output_type": "error",
     "traceback": [
      "\u001b[1;31m---------------------------------------------------------------------------\u001b[0m",
      "\u001b[1;31mNameError\u001b[0m                                 Traceback (most recent call last)",
      "Cell \u001b[1;32mIn [1], line 1\u001b[0m\n\u001b[1;32m----> 1\u001b[0m delete_patient(\u001b[39m\"\u001b[39m\u001b[39m456\u001b[39m\u001b[39m\"\u001b[39m)\n",
      "\u001b[1;31mNameError\u001b[0m: name 'delete_patient' is not defined"
     ]
    }
   ],
   "source": [
    "delete_patient(\"456\")"
   ]
  },
  {
   "cell_type": "code",
   "execution_count": 6,
   "metadata": {},
   "outputs": [],
   "source": [
    "months_dbs = [deta.Base(f\"month{i}_db\") for i in range(1,7)]"
   ]
  },
  {
   "cell_type": "code",
   "execution_count": 8,
   "metadata": {},
   "outputs": [],
   "source": [
    "# function to add test results data for the first month  to the database\n",
    "def add_month_data(patient_id, month_no, systolicBP, diastolicBP,blood_sugar, body_temp, heart_rate, prediction, date):\n",
    "    db = deta.Base(f\"month{month_no}_db\")\n",
    "    db.insert({\n",
    "        \"key\":patient_id,\n",
    "        \"systolicBP\": systolicBP,\n",
    "        \"diastolicBP\":diastolicBP,\n",
    "        \"blood_sugar\":blood_sugar,\n",
    "        \"body_temp\":body_temp, \n",
    "        \"heart_rate\":heart_rate, \n",
    "        \"prediction\":prediction, \n",
    "        \"date\":str(date)\n",
    "    })"
   ]
  },
  {
   "cell_type": "code",
   "execution_count": 10,
   "metadata": {},
   "outputs": [],
   "source": [
    "add_month_data(\"p002\",1,120,80,85,37,85,1,\"2022.05.06\")\n"
   ]
  },
  {
   "cell_type": "code",
   "execution_count": 11,
   "metadata": {},
   "outputs": [],
   "source": [
    "# add data to the database from month 1 to month 6\n",
    "for i in range(2,7):\n",
    "    add_month_data(\"p001\",i,120,80,85,37,85,1,\"2022.05.06\")"
   ]
  },
  {
   "cell_type": "code",
   "execution_count": null,
   "metadata": {},
   "outputs": [],
   "source": [
    "# function to load data from the patient data"
   ]
  },
  {
   "cell_type": "code",
   "execution_count": 15,
   "metadata": {},
   "outputs": [],
   "source": [
    "# function to insert data to the patients database\n",
    "def insert_patient(patient_id, first_name, last_name, nic, age, blood_group, mobile_number):\n",
    "    patients_db.insert({\n",
    "        \"key\": patient_id,\n",
    "        \"first_name\": first_name,\n",
    "        \"last_name\": last_name,\n",
    "        \"nic\": nic,\n",
    "        # \"date_of_birth\": date_of_birth,\n",
    "        \"age\":age,\n",
    "        \"blood_group\": blood_group,\n",
    "        \"mobile_number\": mobile_number,\n",
    "    })\n",
    "\n",
    "    "
   ]
  },
  {
   "cell_type": "code",
   "execution_count": 12,
   "metadata": {},
   "outputs": [],
   "source": [
    "# function to read data from the patients database\n",
    "def get_patient(patient_id):\n",
    "    return patients_db.get(patient_id)"
   ]
  },
  {
   "cell_type": "code",
   "execution_count": 16,
   "metadata": {},
   "outputs": [],
   "source": [
    "insert_patient(\"p001\", \"Kamala\", \"Perera\", \"199812345678\", 25, \"A+\", \"0712345678\")"
   ]
  },
  {
   "cell_type": "code",
   "execution_count": 17,
   "metadata": {},
   "outputs": [
    {
     "data": {
      "text/plain": [
       "{'age': 25,\n",
       " 'blood_group': 'A+',\n",
       " 'first_name': 'Kamala',\n",
       " 'key': 'p001',\n",
       " 'last_name': 'Perera',\n",
       " 'mobile_number': '0712345678',\n",
       " 'nic': '199812345678'}"
      ]
     },
     "execution_count": 17,
     "metadata": {},
     "output_type": "execute_result"
    }
   ],
   "source": [
    "get_patient(\"p001\")"
   ]
  },
  {
   "cell_type": "code",
   "execution_count": 18,
   "metadata": {},
   "outputs": [],
   "source": [
    "# function to get month data from the month databases when the patient id and month is given\n",
    "def get_month_data(patient_id, month_no):\n",
    "    db = deta.Base(f\"month{month_no}_db\")\n",
    "    return db.get(patient_id)"
   ]
  },
  {
   "cell_type": "code",
   "execution_count": 25,
   "metadata": {},
   "outputs": [],
   "source": [
    "a = get_month_data(\"p001\", 5)"
   ]
  },
  {
   "cell_type": "code",
   "execution_count": 24,
   "metadata": {},
   "outputs": [
    {
     "data": {
      "text/plain": [
       "NoneType"
      ]
     },
     "execution_count": 24,
     "metadata": {},
     "output_type": "execute_result"
    }
   ],
   "source": [
    "type(a)"
   ]
  },
  {
   "cell_type": "code",
   "execution_count": 26,
   "metadata": {},
   "outputs": [
    {
     "data": {
      "text/plain": [
       "{'blood_sugar': 85,\n",
       " 'body_temp': 37,\n",
       " 'date': '2022.05.06',\n",
       " 'diastolicBP': 80,\n",
       " 'heart_rate': 85,\n",
       " 'key': 'p001',\n",
       " 'prediction': 1,\n",
       " 'systolicBP': 120}"
      ]
     },
     "execution_count": 26,
     "metadata": {},
     "output_type": "execute_result"
    }
   ],
   "source": [
    "a"
   ]
  },
  {
   "cell_type": "code",
   "execution_count": 45,
   "metadata": {},
   "outputs": [],
   "source": [
    "# function to delete data from the patients database\n",
    "def delete_patient(patient_id):\n",
    "    patients_db.delete(patient_id)"
   ]
  },
  {
   "cell_type": "code",
   "execution_count": 46,
   "metadata": {},
   "outputs": [],
   "source": [
    "delete_patient(\"p002\")"
   ]
  },
  {
   "cell_type": "code",
   "execution_count": 47,
   "metadata": {},
   "outputs": [],
   "source": [
    "# add a new patient to patient_id to the patients database\n",
    "insert_patient(\"p002\", \"Hansika\", \"Perera\", \"199812345678\", 30, \"A+\", \"0712345678\")\n"
   ]
  },
  {
   "cell_type": "code",
   "execution_count": 41,
   "metadata": {},
   "outputs": [],
   "source": [
    "# add a new patient to patient_id to the patients database\n",
    "insert_patient(\"p004\", \"Kamani\", \"Dissnayake\", \"199812345678\", 25, \"A+\", \"0712345678\")"
   ]
  },
  {
   "cell_type": "code",
   "execution_count": 28,
   "metadata": {},
   "outputs": [],
   "source": [
    "import random"
   ]
  },
  {
   "cell_type": "code",
   "execution_count": 36,
   "metadata": {},
   "outputs": [
    {
     "data": {
      "text/plain": [
       "'2023-05-07'"
      ]
     },
     "execution_count": 36,
     "metadata": {},
     "output_type": "execute_result"
    }
   ],
   "source": [
    "# get today date\n",
    "import datetime\n",
    "\n",
    "today = datetime.datetime.now().date()\n",
    "str(today)"
   ]
  },
  {
   "cell_type": "code",
   "execution_count": 49,
   "metadata": {},
   "outputs": [],
   "source": [
    "# function to delete month data when a patient id and month_no is given\n",
    "def delete_month_data(patient_id, month_no):\n",
    "    db = deta.Base(f\"month{month_no}_db\")\n",
    "    db.delete(patient_id)"
   ]
  },
  {
   "cell_type": "code",
   "execution_count": 51,
   "metadata": {},
   "outputs": [],
   "source": [
    "# add values with random values to the month databases for patient p002\n",
    "for i in range(1,7):\n",
    "    # add random values possible values using random.randint()\n",
    "    add_month_data(\"p002\",i,random.randint(120,140),random.randint(80,90),random.randint(80,90),random.randint(37,38),random.randint(80,90),random.randint(1,3),str(datetime.datetime.now().date()))\n",
    "    # delete_month_data(\"p002\",i)"
   ]
  },
  {
   "cell_type": "code",
   "execution_count": 54,
   "metadata": {},
   "outputs": [],
   "source": [
    "# function to read all data from the patients database\n",
    "def get_all_patients():\n",
    "    return patients_db.fetch().items"
   ]
  },
  {
   "cell_type": "code",
   "execution_count": 55,
   "metadata": {},
   "outputs": [
    {
     "data": {
      "text/plain": [
       "[{'age': 25,\n",
       "  'blood_group': 'A+',\n",
       "  'first_name': 'Kamala',\n",
       "  'key': 'p001',\n",
       "  'last_name': 'Perera',\n",
       "  'mobile_number': '0712345678',\n",
       "  'nic': '199812345678'},\n",
       " {'age': 30,\n",
       "  'blood_group': 'A+',\n",
       "  'first_name': 'Hansika',\n",
       "  'key': 'p002',\n",
       "  'last_name': 'Perera',\n",
       "  'mobile_number': '0712345678',\n",
       "  'nic': '199812345678'},\n",
       " {'age': 25,\n",
       "  'blood_group': 'A+',\n",
       "  'first_name': 'Chalani',\n",
       "  'key': 'p003',\n",
       "  'last_name': 'Dahanayake',\n",
       "  'mobile_number': '0712345678',\n",
       "  'nic': '199812345678'},\n",
       " {'age': 25,\n",
       "  'blood_group': 'A+',\n",
       "  'first_name': 'Kamani',\n",
       "  'key': 'p004',\n",
       "  'last_name': 'Dissnayake',\n",
       "  'mobile_number': '0712345678',\n",
       "  'nic': '199812345678'}]"
      ]
     },
     "execution_count": 55,
     "metadata": {},
     "output_type": "execute_result"
    }
   ],
   "source": [
    "get_all_patients()"
   ]
  },
  {
   "cell_type": "code",
   "execution_count": 58,
   "metadata": {},
   "outputs": [
    {
     "name": "stdout",
     "output_type": "stream",
     "text": [
      "aasdfsd\n",
      "asfdgd\n"
     ]
    }
   ],
   "source": [
    "print(\"aasdfsd\\n\"+\"asfdgd\")\n"
   ]
  }
 ],
 "metadata": {
  "kernelspec": {
   "display_name": "Python 3",
   "language": "python",
   "name": "python3"
  },
  "language_info": {
   "codemirror_mode": {
    "name": "ipython",
    "version": 3
   },
   "file_extension": ".py",
   "mimetype": "text/x-python",
   "name": "python",
   "nbconvert_exporter": "python",
   "pygments_lexer": "ipython3",
   "version": "3.10.7"
  },
  "orig_nbformat": 4,
  "vscode": {
   "interpreter": {
    "hash": "ad5481173928e125f3fdb4f3311da346b2650b40328f2fe78d4d2fd439336ee1"
   }
  }
 },
 "nbformat": 4,
 "nbformat_minor": 2
}
