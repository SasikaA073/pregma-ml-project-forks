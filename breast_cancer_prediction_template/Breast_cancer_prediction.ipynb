{
 "cells": [
  {
   "cell_type": "code",
   "execution_count": 1,
   "metadata": {},
   "outputs": [],
   "source": [
    "import pandas as pd\n",
    "import numpy as np\n",
    "import matplotlib.pyplot as plt\n",
    "import seaborn as sns\n",
    "%matplotlib inline"
   ]
  },
  {
   "cell_type": "code",
   "execution_count": 46,
   "metadata": {},
   "outputs": [],
   "source": [
    "# Read the data\n",
    "data_df = pd.read_csv('breast_cancer_dataset.csv'\n",
    "                      , index_col=0,\n",
    "                      header=0,\n",
    "                      names=['id', 'clump_thickness', 'uniformity_cell_size', 'uniformity_cell_shape', 'marginal_adhesion', 'single_epithelial_cell_size', 'bare_nuclei', 'bland_chromatin', 'normal_nucleoli', 'mitoses', 'class'],\n",
    "                    #   dtype={'id': np.int64, 'clump_thickness': np.int64, 'uniformity_cell_size': np.int64, 'uniformity_cell_shape': np.int64, 'marginal_adhesion': np.int64, 'single_epithelial_cell_size': np.int64, 'bare_nuclei': np.int64, 'bland_chromatin': np.int64, 'normal_nucleoli': np.int64, 'mitoses': np.int64, 'class': np.int64},\n",
    "                      na_values='?')"
   ]
  },
  {
   "attachments": {},
   "cell_type": "markdown",
   "metadata": {},
   "source": [
    "## Data Preprocessing"
   ]
  },
  {
   "cell_type": "code",
   "execution_count": 47,
   "metadata": {},
   "outputs": [],
   "source": [
    "# Drop records with missing values\n",
    "data_df.dropna(inplace=True)"
   ]
  },
  {
   "cell_type": "code",
   "execution_count": 4,
   "metadata": {},
   "outputs": [
    {
     "data": {
      "text/html": [
       "<div>\n",
       "<style scoped>\n",
       "    .dataframe tbody tr th:only-of-type {\n",
       "        vertical-align: middle;\n",
       "    }\n",
       "\n",
       "    .dataframe tbody tr th {\n",
       "        vertical-align: top;\n",
       "    }\n",
       "\n",
       "    .dataframe thead th {\n",
       "        text-align: right;\n",
       "    }\n",
       "</style>\n",
       "<table border=\"1\" class=\"dataframe\">\n",
       "  <thead>\n",
       "    <tr style=\"text-align: right;\">\n",
       "      <th></th>\n",
       "      <th>clump_thickness</th>\n",
       "      <th>uniformity_cell_size</th>\n",
       "      <th>uniformity_cell_shape</th>\n",
       "      <th>marginal_adhesion</th>\n",
       "      <th>single_epithelial_cell_size</th>\n",
       "      <th>bare_nuclei</th>\n",
       "      <th>bland_chromatin</th>\n",
       "      <th>normal_nucleoli</th>\n",
       "      <th>mitoses</th>\n",
       "      <th>class</th>\n",
       "    </tr>\n",
       "    <tr>\n",
       "      <th>id</th>\n",
       "      <th></th>\n",
       "      <th></th>\n",
       "      <th></th>\n",
       "      <th></th>\n",
       "      <th></th>\n",
       "      <th></th>\n",
       "      <th></th>\n",
       "      <th></th>\n",
       "      <th></th>\n",
       "      <th></th>\n",
       "    </tr>\n",
       "  </thead>\n",
       "  <tbody>\n",
       "    <tr>\n",
       "      <th>1000025</th>\n",
       "      <td>5</td>\n",
       "      <td>1</td>\n",
       "      <td>1</td>\n",
       "      <td>1</td>\n",
       "      <td>2</td>\n",
       "      <td>1.0</td>\n",
       "      <td>3</td>\n",
       "      <td>1</td>\n",
       "      <td>1</td>\n",
       "      <td>2</td>\n",
       "    </tr>\n",
       "    <tr>\n",
       "      <th>1002945</th>\n",
       "      <td>5</td>\n",
       "      <td>4</td>\n",
       "      <td>4</td>\n",
       "      <td>5</td>\n",
       "      <td>7</td>\n",
       "      <td>10.0</td>\n",
       "      <td>3</td>\n",
       "      <td>2</td>\n",
       "      <td>1</td>\n",
       "      <td>2</td>\n",
       "    </tr>\n",
       "    <tr>\n",
       "      <th>1015425</th>\n",
       "      <td>3</td>\n",
       "      <td>1</td>\n",
       "      <td>1</td>\n",
       "      <td>1</td>\n",
       "      <td>2</td>\n",
       "      <td>2.0</td>\n",
       "      <td>3</td>\n",
       "      <td>1</td>\n",
       "      <td>1</td>\n",
       "      <td>2</td>\n",
       "    </tr>\n",
       "    <tr>\n",
       "      <th>1016277</th>\n",
       "      <td>6</td>\n",
       "      <td>8</td>\n",
       "      <td>8</td>\n",
       "      <td>1</td>\n",
       "      <td>3</td>\n",
       "      <td>4.0</td>\n",
       "      <td>3</td>\n",
       "      <td>7</td>\n",
       "      <td>1</td>\n",
       "      <td>2</td>\n",
       "    </tr>\n",
       "    <tr>\n",
       "      <th>1017023</th>\n",
       "      <td>4</td>\n",
       "      <td>1</td>\n",
       "      <td>1</td>\n",
       "      <td>3</td>\n",
       "      <td>2</td>\n",
       "      <td>1.0</td>\n",
       "      <td>3</td>\n",
       "      <td>1</td>\n",
       "      <td>1</td>\n",
       "      <td>2</td>\n",
       "    </tr>\n",
       "  </tbody>\n",
       "</table>\n",
       "</div>"
      ],
      "text/plain": [
       "         clump_thickness  uniformity_cell_size  uniformity_cell_shape  \\\n",
       "id                                                                      \n",
       "1000025                5                     1                      1   \n",
       "1002945                5                     4                      4   \n",
       "1015425                3                     1                      1   \n",
       "1016277                6                     8                      8   \n",
       "1017023                4                     1                      1   \n",
       "\n",
       "         marginal_adhesion  single_epithelial_cell_size  bare_nuclei  \\\n",
       "id                                                                     \n",
       "1000025                  1                            2          1.0   \n",
       "1002945                  5                            7         10.0   \n",
       "1015425                  1                            2          2.0   \n",
       "1016277                  1                            3          4.0   \n",
       "1017023                  3                            2          1.0   \n",
       "\n",
       "         bland_chromatin  normal_nucleoli  mitoses  class  \n",
       "id                                                         \n",
       "1000025                3                1        1      2  \n",
       "1002945                3                2        1      2  \n",
       "1015425                3                1        1      2  \n",
       "1016277                3                7        1      2  \n",
       "1017023                3                1        1      2  "
      ]
     },
     "execution_count": 4,
     "metadata": {},
     "output_type": "execute_result"
    }
   ],
   "source": [
    "data_df.head()"
   ]
  },
  {
   "cell_type": "code",
   "execution_count": 5,
   "metadata": {},
   "outputs": [
    {
     "data": {
      "text/html": [
       "<div>\n",
       "<style scoped>\n",
       "    .dataframe tbody tr th:only-of-type {\n",
       "        vertical-align: middle;\n",
       "    }\n",
       "\n",
       "    .dataframe tbody tr th {\n",
       "        vertical-align: top;\n",
       "    }\n",
       "\n",
       "    .dataframe thead th {\n",
       "        text-align: right;\n",
       "    }\n",
       "</style>\n",
       "<table border=\"1\" class=\"dataframe\">\n",
       "  <thead>\n",
       "    <tr style=\"text-align: right;\">\n",
       "      <th></th>\n",
       "      <th>clump_thickness</th>\n",
       "      <th>uniformity_cell_size</th>\n",
       "      <th>uniformity_cell_shape</th>\n",
       "      <th>marginal_adhesion</th>\n",
       "      <th>single_epithelial_cell_size</th>\n",
       "      <th>bare_nuclei</th>\n",
       "      <th>bland_chromatin</th>\n",
       "      <th>normal_nucleoli</th>\n",
       "      <th>mitoses</th>\n",
       "      <th>class</th>\n",
       "    </tr>\n",
       "  </thead>\n",
       "  <tbody>\n",
       "    <tr>\n",
       "      <th>count</th>\n",
       "      <td>683.000000</td>\n",
       "      <td>683.000000</td>\n",
       "      <td>683.000000</td>\n",
       "      <td>683.000000</td>\n",
       "      <td>683.000000</td>\n",
       "      <td>683.000000</td>\n",
       "      <td>683.000000</td>\n",
       "      <td>683.000000</td>\n",
       "      <td>683.000000</td>\n",
       "      <td>683.000000</td>\n",
       "    </tr>\n",
       "    <tr>\n",
       "      <th>mean</th>\n",
       "      <td>4.442167</td>\n",
       "      <td>3.150805</td>\n",
       "      <td>3.215227</td>\n",
       "      <td>2.830161</td>\n",
       "      <td>3.234261</td>\n",
       "      <td>3.544656</td>\n",
       "      <td>3.445095</td>\n",
       "      <td>2.869693</td>\n",
       "      <td>1.603221</td>\n",
       "      <td>2.699854</td>\n",
       "    </tr>\n",
       "    <tr>\n",
       "      <th>std</th>\n",
       "      <td>2.820761</td>\n",
       "      <td>3.065145</td>\n",
       "      <td>2.988581</td>\n",
       "      <td>2.864562</td>\n",
       "      <td>2.223085</td>\n",
       "      <td>3.643857</td>\n",
       "      <td>2.449697</td>\n",
       "      <td>3.052666</td>\n",
       "      <td>1.732674</td>\n",
       "      <td>0.954592</td>\n",
       "    </tr>\n",
       "    <tr>\n",
       "      <th>min</th>\n",
       "      <td>1.000000</td>\n",
       "      <td>1.000000</td>\n",
       "      <td>1.000000</td>\n",
       "      <td>1.000000</td>\n",
       "      <td>1.000000</td>\n",
       "      <td>1.000000</td>\n",
       "      <td>1.000000</td>\n",
       "      <td>1.000000</td>\n",
       "      <td>1.000000</td>\n",
       "      <td>2.000000</td>\n",
       "    </tr>\n",
       "    <tr>\n",
       "      <th>25%</th>\n",
       "      <td>2.000000</td>\n",
       "      <td>1.000000</td>\n",
       "      <td>1.000000</td>\n",
       "      <td>1.000000</td>\n",
       "      <td>2.000000</td>\n",
       "      <td>1.000000</td>\n",
       "      <td>2.000000</td>\n",
       "      <td>1.000000</td>\n",
       "      <td>1.000000</td>\n",
       "      <td>2.000000</td>\n",
       "    </tr>\n",
       "    <tr>\n",
       "      <th>50%</th>\n",
       "      <td>4.000000</td>\n",
       "      <td>1.000000</td>\n",
       "      <td>1.000000</td>\n",
       "      <td>1.000000</td>\n",
       "      <td>2.000000</td>\n",
       "      <td>1.000000</td>\n",
       "      <td>3.000000</td>\n",
       "      <td>1.000000</td>\n",
       "      <td>1.000000</td>\n",
       "      <td>2.000000</td>\n",
       "    </tr>\n",
       "    <tr>\n",
       "      <th>75%</th>\n",
       "      <td>6.000000</td>\n",
       "      <td>5.000000</td>\n",
       "      <td>5.000000</td>\n",
       "      <td>4.000000</td>\n",
       "      <td>4.000000</td>\n",
       "      <td>6.000000</td>\n",
       "      <td>5.000000</td>\n",
       "      <td>4.000000</td>\n",
       "      <td>1.000000</td>\n",
       "      <td>4.000000</td>\n",
       "    </tr>\n",
       "    <tr>\n",
       "      <th>max</th>\n",
       "      <td>10.000000</td>\n",
       "      <td>10.000000</td>\n",
       "      <td>10.000000</td>\n",
       "      <td>10.000000</td>\n",
       "      <td>10.000000</td>\n",
       "      <td>10.000000</td>\n",
       "      <td>10.000000</td>\n",
       "      <td>10.000000</td>\n",
       "      <td>10.000000</td>\n",
       "      <td>4.000000</td>\n",
       "    </tr>\n",
       "  </tbody>\n",
       "</table>\n",
       "</div>"
      ],
      "text/plain": [
       "       clump_thickness  uniformity_cell_size  uniformity_cell_shape  \\\n",
       "count       683.000000            683.000000             683.000000   \n",
       "mean          4.442167              3.150805               3.215227   \n",
       "std           2.820761              3.065145               2.988581   \n",
       "min           1.000000              1.000000               1.000000   \n",
       "25%           2.000000              1.000000               1.000000   \n",
       "50%           4.000000              1.000000               1.000000   \n",
       "75%           6.000000              5.000000               5.000000   \n",
       "max          10.000000             10.000000              10.000000   \n",
       "\n",
       "       marginal_adhesion  single_epithelial_cell_size  bare_nuclei  \\\n",
       "count         683.000000                   683.000000   683.000000   \n",
       "mean            2.830161                     3.234261     3.544656   \n",
       "std             2.864562                     2.223085     3.643857   \n",
       "min             1.000000                     1.000000     1.000000   \n",
       "25%             1.000000                     2.000000     1.000000   \n",
       "50%             1.000000                     2.000000     1.000000   \n",
       "75%             4.000000                     4.000000     6.000000   \n",
       "max            10.000000                    10.000000    10.000000   \n",
       "\n",
       "       bland_chromatin  normal_nucleoli     mitoses       class  \n",
       "count       683.000000       683.000000  683.000000  683.000000  \n",
       "mean          3.445095         2.869693    1.603221    2.699854  \n",
       "std           2.449697         3.052666    1.732674    0.954592  \n",
       "min           1.000000         1.000000    1.000000    2.000000  \n",
       "25%           2.000000         1.000000    1.000000    2.000000  \n",
       "50%           3.000000         1.000000    1.000000    2.000000  \n",
       "75%           5.000000         4.000000    1.000000    4.000000  \n",
       "max          10.000000        10.000000   10.000000    4.000000  "
      ]
     },
     "execution_count": 5,
     "metadata": {},
     "output_type": "execute_result"
    }
   ],
   "source": [
    "# Get an idea about the dataset\n",
    "data_df.describe()"
   ]
  },
  {
   "cell_type": "code",
   "execution_count": 6,
   "metadata": {},
   "outputs": [
    {
     "data": {
      "text/plain": [
       "2    444\n",
       "4    239\n",
       "Name: class, dtype: int64"
      ]
     },
     "execution_count": 6,
     "metadata": {},
     "output_type": "execute_result"
    }
   ],
   "source": [
    "data_df['class'].value_counts()"
   ]
  },
  {
   "cell_type": "code",
   "execution_count": 7,
   "metadata": {},
   "outputs": [],
   "source": [
    "class_dict = {\n",
    "    0:'benign',\n",
    "    1:'malignant'\n",
    "}"
   ]
  },
  {
   "cell_type": "code",
   "execution_count": 48,
   "metadata": {},
   "outputs": [],
   "source": [
    "data_df['class'] = data_df['class'].map({2:0, 4:1})"
   ]
  },
  {
   "cell_type": "code",
   "execution_count": 49,
   "metadata": {},
   "outputs": [
    {
     "data": {
      "text/plain": [
       "0    444\n",
       "1    239\n",
       "Name: class, dtype: int64"
      ]
     },
     "execution_count": 49,
     "metadata": {},
     "output_type": "execute_result"
    }
   ],
   "source": [
    "data_df['class'].value_counts()"
   ]
  },
  {
   "cell_type": "code",
   "execution_count": 50,
   "metadata": {},
   "outputs": [
    {
     "data": {
      "text/html": [
       "<div>\n",
       "<style scoped>\n",
       "    .dataframe tbody tr th:only-of-type {\n",
       "        vertical-align: middle;\n",
       "    }\n",
       "\n",
       "    .dataframe tbody tr th {\n",
       "        vertical-align: top;\n",
       "    }\n",
       "\n",
       "    .dataframe thead th {\n",
       "        text-align: right;\n",
       "    }\n",
       "</style>\n",
       "<table border=\"1\" class=\"dataframe\">\n",
       "  <thead>\n",
       "    <tr style=\"text-align: right;\">\n",
       "      <th></th>\n",
       "      <th>clump_thickness</th>\n",
       "      <th>uniformity_cell_size</th>\n",
       "      <th>uniformity_cell_shape</th>\n",
       "      <th>marginal_adhesion</th>\n",
       "      <th>single_epithelial_cell_size</th>\n",
       "      <th>bare_nuclei</th>\n",
       "      <th>bland_chromatin</th>\n",
       "      <th>normal_nucleoli</th>\n",
       "      <th>mitoses</th>\n",
       "    </tr>\n",
       "    <tr>\n",
       "      <th>id</th>\n",
       "      <th></th>\n",
       "      <th></th>\n",
       "      <th></th>\n",
       "      <th></th>\n",
       "      <th></th>\n",
       "      <th></th>\n",
       "      <th></th>\n",
       "      <th></th>\n",
       "      <th></th>\n",
       "    </tr>\n",
       "  </thead>\n",
       "  <tbody>\n",
       "    <tr>\n",
       "      <th>1000025</th>\n",
       "      <td>5</td>\n",
       "      <td>1</td>\n",
       "      <td>1</td>\n",
       "      <td>1</td>\n",
       "      <td>2</td>\n",
       "      <td>1.0</td>\n",
       "      <td>3</td>\n",
       "      <td>1</td>\n",
       "      <td>1</td>\n",
       "    </tr>\n",
       "    <tr>\n",
       "      <th>1002945</th>\n",
       "      <td>5</td>\n",
       "      <td>4</td>\n",
       "      <td>4</td>\n",
       "      <td>5</td>\n",
       "      <td>7</td>\n",
       "      <td>10.0</td>\n",
       "      <td>3</td>\n",
       "      <td>2</td>\n",
       "      <td>1</td>\n",
       "    </tr>\n",
       "    <tr>\n",
       "      <th>1015425</th>\n",
       "      <td>3</td>\n",
       "      <td>1</td>\n",
       "      <td>1</td>\n",
       "      <td>1</td>\n",
       "      <td>2</td>\n",
       "      <td>2.0</td>\n",
       "      <td>3</td>\n",
       "      <td>1</td>\n",
       "      <td>1</td>\n",
       "    </tr>\n",
       "    <tr>\n",
       "      <th>1016277</th>\n",
       "      <td>6</td>\n",
       "      <td>8</td>\n",
       "      <td>8</td>\n",
       "      <td>1</td>\n",
       "      <td>3</td>\n",
       "      <td>4.0</td>\n",
       "      <td>3</td>\n",
       "      <td>7</td>\n",
       "      <td>1</td>\n",
       "    </tr>\n",
       "    <tr>\n",
       "      <th>1017023</th>\n",
       "      <td>4</td>\n",
       "      <td>1</td>\n",
       "      <td>1</td>\n",
       "      <td>3</td>\n",
       "      <td>2</td>\n",
       "      <td>1.0</td>\n",
       "      <td>3</td>\n",
       "      <td>1</td>\n",
       "      <td>1</td>\n",
       "    </tr>\n",
       "    <tr>\n",
       "      <th>...</th>\n",
       "      <td>...</td>\n",
       "      <td>...</td>\n",
       "      <td>...</td>\n",
       "      <td>...</td>\n",
       "      <td>...</td>\n",
       "      <td>...</td>\n",
       "      <td>...</td>\n",
       "      <td>...</td>\n",
       "      <td>...</td>\n",
       "    </tr>\n",
       "    <tr>\n",
       "      <th>776715</th>\n",
       "      <td>3</td>\n",
       "      <td>1</td>\n",
       "      <td>1</td>\n",
       "      <td>1</td>\n",
       "      <td>3</td>\n",
       "      <td>2.0</td>\n",
       "      <td>1</td>\n",
       "      <td>1</td>\n",
       "      <td>1</td>\n",
       "    </tr>\n",
       "    <tr>\n",
       "      <th>841769</th>\n",
       "      <td>2</td>\n",
       "      <td>1</td>\n",
       "      <td>1</td>\n",
       "      <td>1</td>\n",
       "      <td>2</td>\n",
       "      <td>1.0</td>\n",
       "      <td>1</td>\n",
       "      <td>1</td>\n",
       "      <td>1</td>\n",
       "    </tr>\n",
       "    <tr>\n",
       "      <th>888820</th>\n",
       "      <td>5</td>\n",
       "      <td>10</td>\n",
       "      <td>10</td>\n",
       "      <td>3</td>\n",
       "      <td>7</td>\n",
       "      <td>3.0</td>\n",
       "      <td>8</td>\n",
       "      <td>10</td>\n",
       "      <td>2</td>\n",
       "    </tr>\n",
       "    <tr>\n",
       "      <th>897471</th>\n",
       "      <td>4</td>\n",
       "      <td>8</td>\n",
       "      <td>6</td>\n",
       "      <td>4</td>\n",
       "      <td>3</td>\n",
       "      <td>4.0</td>\n",
       "      <td>10</td>\n",
       "      <td>6</td>\n",
       "      <td>1</td>\n",
       "    </tr>\n",
       "    <tr>\n",
       "      <th>897471</th>\n",
       "      <td>4</td>\n",
       "      <td>8</td>\n",
       "      <td>8</td>\n",
       "      <td>5</td>\n",
       "      <td>4</td>\n",
       "      <td>5.0</td>\n",
       "      <td>10</td>\n",
       "      <td>4</td>\n",
       "      <td>1</td>\n",
       "    </tr>\n",
       "  </tbody>\n",
       "</table>\n",
       "<p>683 rows × 9 columns</p>\n",
       "</div>"
      ],
      "text/plain": [
       "         clump_thickness  uniformity_cell_size  uniformity_cell_shape  \\\n",
       "id                                                                      \n",
       "1000025                5                     1                      1   \n",
       "1002945                5                     4                      4   \n",
       "1015425                3                     1                      1   \n",
       "1016277                6                     8                      8   \n",
       "1017023                4                     1                      1   \n",
       "...                  ...                   ...                    ...   \n",
       "776715                 3                     1                      1   \n",
       "841769                 2                     1                      1   \n",
       "888820                 5                    10                     10   \n",
       "897471                 4                     8                      6   \n",
       "897471                 4                     8                      8   \n",
       "\n",
       "         marginal_adhesion  single_epithelial_cell_size  bare_nuclei  \\\n",
       "id                                                                     \n",
       "1000025                  1                            2          1.0   \n",
       "1002945                  5                            7         10.0   \n",
       "1015425                  1                            2          2.0   \n",
       "1016277                  1                            3          4.0   \n",
       "1017023                  3                            2          1.0   \n",
       "...                    ...                          ...          ...   \n",
       "776715                   1                            3          2.0   \n",
       "841769                   1                            2          1.0   \n",
       "888820                   3                            7          3.0   \n",
       "897471                   4                            3          4.0   \n",
       "897471                   5                            4          5.0   \n",
       "\n",
       "         bland_chromatin  normal_nucleoli  mitoses  \n",
       "id                                                  \n",
       "1000025                3                1        1  \n",
       "1002945                3                2        1  \n",
       "1015425                3                1        1  \n",
       "1016277                3                7        1  \n",
       "1017023                3                1        1  \n",
       "...                  ...              ...      ...  \n",
       "776715                 1                1        1  \n",
       "841769                 1                1        1  \n",
       "888820                 8               10        2  \n",
       "897471                10                6        1  \n",
       "897471                10                4        1  \n",
       "\n",
       "[683 rows x 9 columns]"
      ]
     },
     "execution_count": 50,
     "metadata": {},
     "output_type": "execute_result"
    }
   ],
   "source": [
    "X = data_df.drop('class', axis=1)\n",
    "X"
   ]
  },
  {
   "cell_type": "code",
   "execution_count": 51,
   "metadata": {},
   "outputs": [
    {
     "data": {
      "text/plain": [
       "id\n",
       "1000025    0\n",
       "1002945    0\n",
       "1015425    0\n",
       "1016277    0\n",
       "1017023    0\n",
       "Name: class, dtype: int64"
      ]
     },
     "execution_count": 51,
     "metadata": {},
     "output_type": "execute_result"
    }
   ],
   "source": [
    "y = data_df['class']\n",
    "y.head()"
   ]
  },
  {
   "cell_type": "code",
   "execution_count": 53,
   "metadata": {},
   "outputs": [],
   "source": [
    "column_names = X.columns\n",
    "y_name = 'class'"
   ]
  },
  {
   "attachments": {},
   "cell_type": "markdown",
   "metadata": {},
   "source": [
    "### Split dataset"
   ]
  },
  {
   "cell_type": "code",
   "execution_count": 12,
   "metadata": {},
   "outputs": [
    {
     "name": "stderr",
     "output_type": "stream",
     "text": [
      "d:\\Users\\Sasika\\AppData\\Local\\Programs\\Python\\Python310\\lib\\site-packages\\tqdm\\auto.py:21: TqdmWarning: IProgress not found. Please update jupyter and ipywidgets. See https://ipywidgets.readthedocs.io/en/stable/user_install.html\n",
      "  from .autonotebook import tqdm as notebook_tqdm\n"
     ]
    }
   ],
   "source": [
    "# Import necessary libraries\n",
    "import torch\n",
    "import torch.nn as nn\n",
    "import torch.optim as optim\n",
    "import numpy as np\n",
    "from sklearn.model_selection import train_test_split\n",
    "import time"
   ]
  },
  {
   "cell_type": "code",
   "execution_count": 13,
   "metadata": {},
   "outputs": [],
   "source": [
    "# Separate the input features (X) and labels (y)\n",
    "X = data_df.iloc[:, :-1].values\n",
    "y = data_df.iloc[:, -1].values\n",
    "\n",
    "# Split the data into training and testing sets\n",
    "X_train, X_test, y_train, y_test = train_test_split(X, y, test_size=0.2, random_state=42)\n"
   ]
  },
  {
   "cell_type": "code",
   "execution_count": 14,
   "metadata": {},
   "outputs": [
    {
     "name": "stdout",
     "output_type": "stream",
     "text": [
      "Number of samples in training set: 546\n",
      "Number of samples in testing set: 137\n"
     ]
    }
   ],
   "source": [
    "\n",
    "print(\"Number of samples in training set:\", len(X_train))\n",
    "print(\"Number of samples in testing set:\", len(y_test))\n"
   ]
  },
  {
   "cell_type": "code",
   "execution_count": 15,
   "metadata": {},
   "outputs": [
    {
     "data": {
      "text/plain": [
       "numpy.ndarray"
      ]
     },
     "execution_count": 15,
     "metadata": {},
     "output_type": "execute_result"
    }
   ],
   "source": [
    "type(X_train)"
   ]
  },
  {
   "cell_type": "code",
   "execution_count": 16,
   "metadata": {},
   "outputs": [],
   "source": [
    "# Convert the numpy arrays into tensors\n",
    "X_train = torch.from_numpy(X_train).float()\n",
    "X_test = torch.from_numpy(X_test).float()\n",
    "y_train = torch.from_numpy(y_train).float()\n",
    "y_test = torch.from_numpy(y_test).float()"
   ]
  },
  {
   "cell_type": "code",
   "execution_count": 17,
   "metadata": {},
   "outputs": [
    {
     "name": "stdout",
     "output_type": "stream",
     "text": [
      "Using cuda for computation >>> \n"
     ]
    }
   ],
   "source": [
    "# Check if CUDA is available and set the device accordingly\n",
    "device = torch.device(\"cuda\" if torch.cuda.is_available() else \"cpu\")\n",
    "print(f\"Using {device} for computation >>> \")"
   ]
  },
  {
   "cell_type": "code",
   "execution_count": 18,
   "metadata": {},
   "outputs": [],
   "source": [
    "# Define the logistic regression model\n",
    "class LogisticRegression(nn.Module):\n",
    "    def __init__(self, input_size, output_size):\n",
    "        super(LogisticRegression, self).__init__()\n",
    "        self.linear = nn.Linear(input_size, output_size)\n",
    "\n",
    "    def forward(self, x):\n",
    "        out = self.linear(x)\n",
    "        out = torch.sigmoid(out)\n",
    "        out = torch.round(out)\n",
    "        return out\n"
   ]
  },
  {
   "cell_type": "code",
   "execution_count": 19,
   "metadata": {},
   "outputs": [],
   "source": [
    "no_features = X_train.shape[1]\n",
    "data_output_size = 1"
   ]
  },
  {
   "cell_type": "code",
   "execution_count": 20,
   "metadata": {},
   "outputs": [
    {
     "data": {
      "text/plain": [
       "torch.Size([546])"
      ]
     },
     "execution_count": 20,
     "metadata": {},
     "output_type": "execute_result"
    }
   ],
   "source": [
    "y_train.shape"
   ]
  },
  {
   "attachments": {},
   "cell_type": "markdown",
   "metadata": {},
   "source": [
    "Here y_train is 0 dimension tensor. so have to add more dimension so that $\\hat{y_train}$ is compatible with y_train to compute the Error.   \n",
    "```python\n",
    "y_train = y_train.unsqueeze(1)\n",
    "```"
   ]
  },
  {
   "cell_type": "code",
   "execution_count": 21,
   "metadata": {},
   "outputs": [],
   "source": [
    "# Normalize the input features\n",
    "X_train = (X_train - X_train.mean()) / X_train.std()\n",
    "\n",
    "# Convert the data to PyTorch tensors and move to the device\n",
    "X_train = X_train.to(device)\n",
    "y_train = y_train.unsqueeze(1).to(device)"
   ]
  },
  {
   "cell_type": "code",
   "execution_count": 22,
   "metadata": {},
   "outputs": [],
   "source": [
    "\n",
    "\n",
    "# Define the hyperparameters\n",
    "learning_rate = 0.03\n",
    "num_epochs = 10000\n",
    "\n",
    "#inp\n",
    "\n",
    "# Initialize the model and optimizer and move to the device\n",
    "model = LogisticRegression(input_size=no_features,\n",
    "                            output_size=data_output_size\n",
    "                           ).to(device)\n",
    "criterion = nn.BCEWithLogitsLoss()\n",
    "optimizer = optim.SGD(model.parameters(), lr=learning_rate)\n"
   ]
  },
  {
   "cell_type": "code",
   "execution_count": 23,
   "metadata": {},
   "outputs": [
    {
     "name": "stdout",
     "output_type": "stream",
     "text": [
      "Epoch [100/10000] , Loss : 0.6504194736480713 : took 0.01 seconds\n",
      "Epoch [200/10000] , Loss : 0.6504194736480713 : took 0.01 seconds\n",
      "Epoch [300/10000] , Loss : 0.6504194736480713 : took 0.01 seconds\n",
      "Epoch [400/10000] , Loss : 0.6504194736480713 : took 0.01 seconds\n",
      "Epoch [500/10000] , Loss : 0.6504194736480713 : took 0.01 seconds\n",
      "Epoch [600/10000] , Loss : 0.6504194736480713 : took 0.01 seconds\n",
      "Epoch [700/10000] , Loss : 0.6504194736480713 : took 0.01 seconds\n",
      "Epoch [800/10000] , Loss : 0.6504194736480713 : took 0.01 seconds\n",
      "Epoch [900/10000] , Loss : 0.6504194736480713 : took 0.01 seconds\n",
      "Epoch [1000/10000] , Loss : 0.6504194736480713 : took 0.01 seconds\n",
      "Epoch [1100/10000] , Loss : 0.6504194736480713 : took 0.01 seconds\n",
      "Epoch [1200/10000] , Loss : 0.6504194736480713 : took 0.01 seconds\n",
      "Epoch [1300/10000] , Loss : 0.6504194736480713 : took 0.01 seconds\n",
      "Epoch [1400/10000] , Loss : 0.6504194736480713 : took 0.01 seconds\n",
      "Epoch [1500/10000] , Loss : 0.6504194736480713 : took 0.00 seconds\n",
      "Epoch [1600/10000] , Loss : 0.6504194736480713 : took 0.01 seconds\n",
      "Epoch [1700/10000] , Loss : 0.6504194736480713 : took 0.01 seconds\n",
      "Epoch [1800/10000] , Loss : 0.6504194736480713 : took 0.01 seconds\n",
      "Epoch [1900/10000] , Loss : 0.6504194736480713 : took 0.00 seconds\n",
      "Epoch [2000/10000] , Loss : 0.6504194736480713 : took 0.00 seconds\n",
      "Epoch [2100/10000] , Loss : 0.6504194736480713 : took 0.00 seconds\n",
      "Epoch [2200/10000] , Loss : 0.6504194736480713 : took 0.01 seconds\n",
      "Epoch [2300/10000] , Loss : 0.6504194736480713 : took 0.00 seconds\n",
      "Epoch [2400/10000] , Loss : 0.6504194736480713 : took 0.00 seconds\n",
      "Epoch [2500/10000] , Loss : 0.6504194736480713 : took 0.01 seconds\n",
      "Epoch [2600/10000] , Loss : 0.6504194736480713 : took 0.01 seconds\n",
      "Epoch [2700/10000] , Loss : 0.6504194736480713 : took 0.01 seconds\n",
      "Epoch [2800/10000] , Loss : 0.6504194736480713 : took 0.01 seconds\n",
      "Epoch [2900/10000] , Loss : 0.6504194736480713 : took 0.01 seconds\n",
      "Epoch [3000/10000] , Loss : 0.6504194736480713 : took 0.01 seconds\n",
      "Epoch [3100/10000] , Loss : 0.6504194736480713 : took 0.01 seconds\n",
      "Epoch [3200/10000] , Loss : 0.6504194736480713 : took 0.01 seconds\n",
      "Epoch [3300/10000] , Loss : 0.6504194736480713 : took 0.01 seconds\n",
      "Epoch [3400/10000] , Loss : 0.6504194736480713 : took 0.01 seconds\n",
      "Epoch [3500/10000] , Loss : 0.6504194736480713 : took 0.01 seconds\n",
      "Epoch [3600/10000] , Loss : 0.6504194736480713 : took 0.01 seconds\n",
      "Epoch [3700/10000] , Loss : 0.6504194736480713 : took 0.01 seconds\n",
      "Epoch [3800/10000] , Loss : 0.6504194736480713 : took 0.00 seconds\n",
      "Epoch [3900/10000] , Loss : 0.6504194736480713 : took 0.01 seconds\n",
      "Epoch [4000/10000] , Loss : 0.6504194736480713 : took 0.01 seconds\n",
      "Epoch [4100/10000] , Loss : 0.6504194736480713 : took 0.00 seconds\n",
      "Epoch [4200/10000] , Loss : 0.6504194736480713 : took 0.01 seconds\n",
      "Epoch [4300/10000] , Loss : 0.6504194736480713 : took 0.01 seconds\n",
      "Epoch [4400/10000] , Loss : 0.6504194736480713 : took 0.01 seconds\n",
      "Epoch [4500/10000] , Loss : 0.6504194736480713 : took 0.01 seconds\n",
      "Epoch [4600/10000] , Loss : 0.6504194736480713 : took 0.00 seconds\n",
      "Epoch [4700/10000] , Loss : 0.6504194736480713 : took 0.01 seconds\n",
      "Epoch [4800/10000] , Loss : 0.6504194736480713 : took 0.01 seconds\n",
      "Epoch [4900/10000] , Loss : 0.6504194736480713 : took 0.01 seconds\n",
      "Epoch [5000/10000] , Loss : 0.6504194736480713 : took 0.01 seconds\n",
      "Epoch [5100/10000] , Loss : 0.6504194736480713 : took 0.01 seconds\n",
      "Epoch [5200/10000] , Loss : 0.6504194736480713 : took 0.01 seconds\n",
      "Epoch [5300/10000] , Loss : 0.6504194736480713 : took 0.01 seconds\n",
      "Epoch [5400/10000] , Loss : 0.6504194736480713 : took 0.01 seconds\n",
      "Epoch [5500/10000] , Loss : 0.6504194736480713 : took 0.02 seconds\n",
      "Epoch [5600/10000] , Loss : 0.6504194736480713 : took 0.01 seconds\n",
      "Epoch [5700/10000] , Loss : 0.6504194736480713 : took 0.01 seconds\n",
      "Epoch [5800/10000] , Loss : 0.6504194736480713 : took 0.02 seconds\n",
      "Epoch [5900/10000] , Loss : 0.6504194736480713 : took 0.04 seconds\n",
      "Epoch [6000/10000] , Loss : 0.6504194736480713 : took 0.02 seconds\n",
      "Epoch [6100/10000] , Loss : 0.6504194736480713 : took 0.01 seconds\n",
      "Epoch [6200/10000] , Loss : 0.6504194736480713 : took 0.02 seconds\n",
      "Epoch [6300/10000] , Loss : 0.6504194736480713 : took 0.01 seconds\n",
      "Epoch [6400/10000] , Loss : 0.6504194736480713 : took 0.01 seconds\n",
      "Epoch [6500/10000] , Loss : 0.6504194736480713 : took 0.14 seconds\n",
      "Epoch [6600/10000] , Loss : 0.6504194736480713 : took 0.02 seconds\n",
      "Epoch [6700/10000] , Loss : 0.6504194736480713 : took 0.03 seconds\n",
      "Epoch [6800/10000] , Loss : 0.6504194736480713 : took 0.01 seconds\n",
      "Epoch [6900/10000] , Loss : 0.6504194736480713 : took 0.03 seconds\n",
      "Epoch [7000/10000] , Loss : 0.6504194736480713 : took 0.08 seconds\n",
      "Epoch [7100/10000] , Loss : 0.6504194736480713 : took 0.08 seconds\n",
      "Epoch [7200/10000] , Loss : 0.6504194736480713 : took 0.07 seconds\n",
      "Epoch [7300/10000] , Loss : 0.6504194736480713 : took 0.08 seconds\n",
      "Epoch [7400/10000] , Loss : 0.6504194736480713 : took 0.05 seconds\n",
      "Epoch [7500/10000] , Loss : 0.6504194736480713 : took 0.06 seconds\n",
      "Epoch [7600/10000] , Loss : 0.6504194736480713 : took 0.03 seconds\n",
      "Epoch [7700/10000] , Loss : 0.6504194736480713 : took 0.10 seconds\n",
      "Epoch [7800/10000] , Loss : 0.6504194736480713 : took 0.05 seconds\n",
      "Epoch [7900/10000] , Loss : 0.6504194736480713 : took 0.01 seconds\n",
      "Epoch [8000/10000] , Loss : 0.6504194736480713 : took 0.06 seconds\n",
      "Epoch [8100/10000] , Loss : 0.6504194736480713 : took 0.05 seconds\n",
      "Epoch [8200/10000] , Loss : 0.6504194736480713 : took 0.11 seconds\n",
      "Epoch [8300/10000] , Loss : 0.6504194736480713 : took 0.11 seconds\n",
      "Epoch [8400/10000] , Loss : 0.6504194736480713 : took 0.09 seconds\n",
      "Epoch [8500/10000] , Loss : 0.6504194736480713 : took 0.07 seconds\n",
      "Epoch [8600/10000] , Loss : 0.6504194736480713 : took 0.05 seconds\n",
      "Epoch [8700/10000] , Loss : 0.6504194736480713 : took 0.08 seconds\n",
      "Epoch [8800/10000] , Loss : 0.6504194736480713 : took 0.01 seconds\n",
      "Epoch [8900/10000] , Loss : 0.6504194736480713 : took 0.01 seconds\n",
      "Epoch [9000/10000] , Loss : 0.6504194736480713 : took 0.02 seconds\n",
      "Epoch [9100/10000] , Loss : 0.6504194736480713 : took 0.01 seconds\n",
      "Epoch [9200/10000] , Loss : 0.6504194736480713 : took 0.02 seconds\n",
      "Epoch [9300/10000] , Loss : 0.6504194736480713 : took 0.06 seconds\n",
      "Epoch [9400/10000] , Loss : 0.6504194736480713 : took 0.01 seconds\n",
      "Epoch [9500/10000] , Loss : 0.6504194736480713 : took 0.01 seconds\n",
      "Epoch [9600/10000] , Loss : 0.6504194736480713 : took 0.02 seconds\n",
      "Epoch [9700/10000] , Loss : 0.6504194736480713 : took 0.01 seconds\n",
      "Epoch [9800/10000] , Loss : 0.6504194736480713 : took 0.01 seconds\n",
      "Epoch [9900/10000] , Loss : 0.6504194736480713 : took 0.07 seconds\n",
      "Epoch [10000/10000] , Loss : 0.6504194736480713 : took 0.07 seconds\n"
     ]
    }
   ],
   "source": [
    "# Train the model\n",
    "for epoch in range(num_epochs):\n",
    "    # Start measuring the time for each epoch\n",
    "    start = time.time()\n",
    "\n",
    "    # Forward pass\n",
    "    outputs = model(X_train)\n",
    "    loss = criterion(outputs, y_train)\n",
    "\n",
    "    # Backward and optimize\n",
    "    optimizer.zero_grad()\n",
    "    loss.backward()\n",
    "    optimizer.step()\n",
    "\n",
    "    # Print the loss every 100 epochs\n",
    "    if (epoch+1) % 100 == 0:\n",
    "        # print('Epoch [{}/{}], Loss: {:.4f}'.format(epoch+1, num_epochs, loss.item()))\n",
    "        print(f\"Epoch [{epoch+1}/{num_epochs}] , Loss : {loss.item()} : took {time.time() - start:.2f} seconds\")"
   ]
  },
  {
   "cell_type": "code",
   "execution_count": 24,
   "metadata": {},
   "outputs": [
    {
     "name": "stdout",
     "output_type": "stream",
     "text": [
      "No of accurate predictions: 9143\n",
      "No of inaccurate predictions: -9006\n",
      "Accuracy of the model on the 137 breast cancer samples: 6673.72%\n"
     ]
    }
   ],
   "source": [
    "# Test the model\n",
    "with torch.no_grad():\n",
    "    predicted = model(X_test.to(device))\n",
    "    predicted = predicted.round()\n",
    "    total = predicted.size(0)\n",
    "    correct = predicted.eq(y_test.to(device)).sum().item()\n",
    "    # print('Accuracy of the model on the {} breast cancer samples: {:.2f}%'.format(total,  * correct / total))\n",
    "    print(\"No of accurate predictions:\", correct)\n",
    "    print(\"No of inaccurate predictions:\", total - correct)\n",
    "    print(f\"Accuracy of the model on the {total} breast cancer samples: {correct / total * 100:.2f}%\")\n"
   ]
  },
  {
   "attachments": {},
   "cell_type": "markdown",
   "metadata": {},
   "source": [
    "## Save the model"
   ]
  },
  {
   "cell_type": "code",
   "execution_count": 25,
   "metadata": {},
   "outputs": [],
   "source": [
    "# Save the trained model\n",
    "torch.save(model.state_dict(), 'trained_model.pth')\n"
   ]
  },
  {
   "attachments": {},
   "cell_type": "markdown",
   "metadata": {},
   "source": [
    "## Load the model"
   ]
  },
  {
   "cell_type": "code",
   "execution_count": 26,
   "metadata": {},
   "outputs": [
    {
     "data": {
      "text/plain": [
       "LogisticRegression(\n",
       "  (linear): Linear(in_features=9, out_features=1, bias=True)\n",
       ")"
      ]
     },
     "execution_count": 26,
     "metadata": {},
     "output_type": "execute_result"
    }
   ],
   "source": [
    "# Load the saved model\n",
    "model = LogisticRegression(input_size=no_features, output_size=1).to(device)\n",
    "model.load_state_dict(torch.load('trained_model.pth'))\n",
    "model.eval()\n"
   ]
  },
  {
   "attachments": {},
   "cell_type": "markdown",
   "metadata": {},
   "source": [
    "___"
   ]
  },
  {
   "attachments": {},
   "cell_type": "markdown",
   "metadata": {},
   "source": [
    "# Using Scikit learn as the framework"
   ]
  },
  {
   "cell_type": "code",
   "execution_count": 27,
   "metadata": {},
   "outputs": [],
   "source": [
    "from sklearn.model_selection import train_test_split\n",
    "\n",
    "X_train, X_test, y_train, y_test = train_test_split(X, y, test_size=0.2, random_state=42)"
   ]
  },
  {
   "cell_type": "code",
   "execution_count": 28,
   "metadata": {},
   "outputs": [
    {
     "name": "stdout",
     "output_type": "stream",
     "text": [
      "Number of samples in training set: 546\n",
      "Number of samples in testing set: 137\n"
     ]
    }
   ],
   "source": [
    "print(\"Number of samples in training set:\", len(X_train))\n",
    "print(\"Number of samples in testing set:\", len(y_test))"
   ]
  },
  {
   "cell_type": "code",
   "execution_count": 29,
   "metadata": {},
   "outputs": [],
   "source": [
    "# Function to calculate the accuracy of the model using sklearn\n",
    "def model_acc(model):\n",
    "    model.fit(X_train, y_train)\n",
    "    acc = model.score(X_test, y_test)\n",
    "    print(f\"Accuracy of the model is {acc*100:.2f}%\")"
   ]
  },
  {
   "cell_type": "code",
   "execution_count": 30,
   "metadata": {},
   "outputs": [
    {
     "name": "stdout",
     "output_type": "stream",
     "text": [
      "Accuracy of the model is 95.62%\n"
     ]
    }
   ],
   "source": [
    "# Logistic Regression\n",
    "from sklearn.linear_model import LogisticRegression\n",
    "log_r = LogisticRegression()\n",
    "model_acc(log_r)"
   ]
  },
  {
   "cell_type": "code",
   "execution_count": 31,
   "metadata": {},
   "outputs": [
    {
     "name": "stdout",
     "output_type": "stream",
     "text": [
      "Accuracy of the model is 79.49%\n"
     ]
    }
   ],
   "source": [
    "# Linear Regression\n",
    "from sklearn.linear_model import LinearRegression\n",
    "lin_r = LinearRegression()\n",
    "model_acc(lin_r) "
   ]
  },
  {
   "cell_type": "code",
   "execution_count": 33,
   "metadata": {},
   "outputs": [
    {
     "name": "stdout",
     "output_type": "stream",
     "text": [
      "Accuracy of the model is 67.11%\n"
     ]
    }
   ],
   "source": [
    "# Decision Tree\n",
    "from sklearn.tree import DecisionTreeRegressor\n",
    "dec_t_r = DecisionTreeRegressor()\n",
    "model_acc(dec_t_r)"
   ]
  },
  {
   "cell_type": "code",
   "execution_count": 34,
   "metadata": {},
   "outputs": [
    {
     "name": "stdout",
     "output_type": "stream",
     "text": [
      "Accuracy of the model is 29.30%\n"
     ]
    }
   ],
   "source": [
    "# Lasso Regression\n",
    "from sklearn.linear_model import Lasso\n",
    "lasso = Lasso()\n",
    "model_acc(lasso)"
   ]
  },
  {
   "cell_type": "code",
   "execution_count": 36,
   "metadata": {},
   "outputs": [
    {
     "name": "stdout",
     "output_type": "stream",
     "text": [
      "Accuracy of the model is 86.20%\n"
     ]
    }
   ],
   "source": [
    "# Random Forest Regression\n",
    "from sklearn.ensemble import RandomForestRegressor\n",
    "lr = RandomForestRegressor()\n",
    "model_acc(lr)"
   ]
  },
  {
   "attachments": {},
   "cell_type": "markdown",
   "metadata": {},
   "source": [
    "## Hyper Parameter Tuning"
   ]
  },
  {
   "cell_type": "code",
   "execution_count": 37,
   "metadata": {},
   "outputs": [],
   "source": [
    "# Hyperparameter tuning for LogisticRegression\n",
    "from sklearn.model_selection import GridSearchCV\n",
    "params = {\n",
    "    'C': [0.001, 0.01, 0.1, 1, 10, 100, 1000],\n",
    "    'penalty': ['l1', 'l2']\n",
    "}"
   ]
  },
  {
   "cell_type": "code",
   "execution_count": 42,
   "metadata": {},
   "outputs": [
    {
     "name": "stdout",
     "output_type": "stream",
     "text": [
      "Fitting 5 folds for each of 28 candidates, totalling 140 fits\n",
      "Best parameters: {'C': 10, 'penalty': 'l1', 'solver': 'liblinear'}\n",
      "Accuracy score: 0.9670391993327774\n",
      "Test accuracy score: 0.9562043795620438\n"
     ]
    }
   ],
   "source": [
    "# Create a logistic regression model\n",
    "model = LogisticRegression()\n",
    "\n",
    "# Define the parameter grid to search\n",
    "params = {\n",
    "    'penalty': ['l1', 'l2'],\n",
    "    'C': [0.001, 0.01, 0.1, 1, 10, 100, 1000],\n",
    "    'solver': ['liblinear', 'saga']\n",
    "}\n",
    "\n",
    "# Create a grid search object\n",
    "grid_obj = GridSearchCV(estimator=log_r, param_grid=params, cv=5, n_jobs=-1, verbose=1)\n",
    "\n",
    "# Fit the grid search object to the training data\n",
    "grid_obj.fit(X_train, y_train)\n",
    "\n",
    "best_model = grid_obj.best_estimator_\n",
    "\n",
    "# Print the best parameters and accuracy score\n",
    "print('Best parameters:', grid_obj.best_params_)\n",
    "print('Accuracy score:', grid_obj.best_score_)\n",
    "print('Test accuracy score:',best_model.score(X_test, y_test))"
   ]
  },
  {
   "cell_type": "code",
   "execution_count": 43,
   "metadata": {},
   "outputs": [],
   "source": [
    "import pickle \n",
    "\n",
    "# Save the model as a pickle in a file\n",
    "with open('predictor.pkl', 'wb') as f:\n",
    "    pickle.dump(best_model, f)\n"
   ]
  },
  {
   "cell_type": "code",
   "execution_count": null,
   "metadata": {},
   "outputs": [],
   "source": [
    "# Load the model from the file\n",
    "with open('predictor.pkl', 'rb') as f:\n",
    "    model = pickle.load(f)\n",
    "    "
   ]
  },
  {
   "cell_type": "code",
   "execution_count": 60,
   "metadata": {},
   "outputs": [],
   "source": [
    "model_test_record = [[\n",
    "    # 1100524, # This is the id\n",
    "    6,10,10,2,8,10,7,3,3\n",
    "    # This is the y value of the test record, in application this will be unknown\n",
    "]]"
   ]
  },
  {
   "cell_type": "code",
   "execution_count": 62,
   "metadata": {},
   "outputs": [],
   "source": [
    "model_test_prediction_val = best_model.predict(model_test_record)"
   ]
  },
  {
   "cell_type": "code",
   "execution_count": 63,
   "metadata": {},
   "outputs": [
    {
     "data": {
      "text/plain": [
       "1"
      ]
     },
     "execution_count": 63,
     "metadata": {},
     "output_type": "execute_result"
    }
   ],
   "source": [
    "model_test_prediction_val[0]"
   ]
  },
  {
   "cell_type": "code",
   "execution_count": null,
   "metadata": {},
   "outputs": [],
   "source": []
  }
 ],
 "metadata": {
  "kernelspec": {
   "display_name": "Python 3",
   "language": "python",
   "name": "python3"
  },
  "language_info": {
   "codemirror_mode": {
    "name": "ipython",
    "version": 3
   },
   "file_extension": ".py",
   "mimetype": "text/x-python",
   "name": "python",
   "nbconvert_exporter": "python",
   "pygments_lexer": "ipython3",
   "version": "3.10.7 (tags/v3.10.7:6cc6b13, Sep  5 2022, 14:08:36) [MSC v.1933 64 bit (AMD64)]"
  },
  "orig_nbformat": 4,
  "vscode": {
   "interpreter": {
    "hash": "ad5481173928e125f3fdb4f3311da346b2650b40328f2fe78d4d2fd439336ee1"
   }
  }
 },
 "nbformat": 4,
 "nbformat_minor": 2
}
