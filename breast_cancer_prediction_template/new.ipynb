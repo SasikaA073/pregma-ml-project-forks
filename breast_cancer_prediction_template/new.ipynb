{
 "cells": [
  {
   "cell_type": "code",
   "execution_count": 1,
   "metadata": {},
   "outputs": [
    {
     "data": {
      "text/plain": [
       "['sample_code_number',\n",
       " 'clump_thickness',\n",
       " 'uniformity_of_cell_size',\n",
       " 'uniformity_of_cell_shape',\n",
       " 'marginal_adhesion',\n",
       " 'single_epithelial_cell_size',\n",
       " 'bare_nuclei',\n",
       " 'bland_chromatin',\n",
       " 'normal_nucleoli',\n",
       " 'mitoses',\n",
       " 'class']"
      ]
     },
     "execution_count": 1,
     "metadata": {},
     "output_type": "execute_result"
    }
   ],
   "source": [
    "s = \"sample_code_number,clump_thickness,uniformity_of_cell_size,uniformity_of_cell_shape,marginal_adhesion,single_epithelial_cell_size,bare_nuclei,bland_chromatin,normal_nucleoli,mitoses,class\"\n",
    "s = s.split(\",\")\n",
    "s"
   ]
  },
  {
   "cell_type": "code",
   "execution_count": 10,
   "metadata": {},
   "outputs": [
    {
     "name": "stdout",
     "output_type": "stream",
     "text": [
      "clump_thickness = int(request.form['form1-input_clump_thickness'])\n",
      "uniformity_of_cell_size = int(request.form['form1-input_uniformity_of_cell_size'])\n",
      "uniformity_of_cell_shape = int(request.form['form1-input_uniformity_of_cell_shape'])\n",
      "marginal_adhesion = int(request.form['form1-input_marginal_adhesion'])\n",
      "single_epithelial_cell_size = int(request.form['form1-input_single_epithelial_cell_size'])\n",
      "bare_nuclei = int(request.form['form1-input_bare_nuclei'])\n",
      "bland_chromatin = int(request.form['form1-input_bland_chromatin'])\n",
      "normal_nucleoli = int(request.form['form1-input_normal_nucleoli'])\n",
      "mitoses = int(request.form['form1-input_mitoses'])\n"
     ]
    }
   ],
   "source": [
    "for i in s:\n",
    "    print(f\"{i} = int(request.form['form1-input_{i}'])\")"
   ]
  },
  {
   "cell_type": "code",
   "execution_count": 3,
   "metadata": {},
   "outputs": [
    {
     "data": {
      "text/plain": [
       "['clump_thickness',\n",
       " 'uniformity_of_cell_size',\n",
       " 'uniformity_of_cell_shape',\n",
       " 'marginal_adhesion',\n",
       " 'single_epithelial_cell_size',\n",
       " 'bare_nuclei',\n",
       " 'bland_chromatin',\n",
       " 'normal_nucleoli',\n",
       " 'mitoses']"
      ]
     },
     "execution_count": 3,
     "metadata": {},
     "output_type": "execute_result"
    }
   ],
   "source": [
    "s = s[1:-1]\n",
    "s"
   ]
  },
  {
   "cell_type": "code",
   "execution_count": 9,
   "metadata": {},
   "outputs": [
    {
     "name": "stdout",
     "output_type": "stream",
     "text": [
      "<label for=\"input_clump_thickness\">clump_thickness:</label>\n",
      "<input type=\"text\" name=\"form1-input_clump_thickness\" id=\"input_clump_thickness\" required><br>\n",
      "\n",
      "<label for=\"input_uniformity_of_cell_size\">uniformity_of_cell_size:</label>\n",
      "<input type=\"text\" name=\"form1-input_uniformity_of_cell_size\" id=\"input_uniformity_of_cell_size\" required><br>\n",
      "\n",
      "<label for=\"input_uniformity_of_cell_shape\">uniformity_of_cell_shape:</label>\n",
      "<input type=\"text\" name=\"form1-input_uniformity_of_cell_shape\" id=\"input_uniformity_of_cell_shape\" required><br>\n",
      "\n",
      "<label for=\"input_marginal_adhesion\">marginal_adhesion:</label>\n",
      "<input type=\"text\" name=\"form1-input_marginal_adhesion\" id=\"input_marginal_adhesion\" required><br>\n",
      "\n",
      "<label for=\"input_single_epithelial_cell_size\">single_epithelial_cell_size:</label>\n",
      "<input type=\"text\" name=\"form1-input_single_epithelial_cell_size\" id=\"input_single_epithelial_cell_size\" required><br>\n",
      "\n",
      "<label for=\"input_bare_nuclei\">bare_nuclei:</label>\n",
      "<input type=\"text\" name=\"form1-input_bare_nuclei\" id=\"input_bare_nuclei\" required><br>\n",
      "\n",
      "<label for=\"input_bland_chromatin\">bland_chromatin:</label>\n",
      "<input type=\"text\" name=\"form1-input_bland_chromatin\" id=\"input_bland_chromatin\" required><br>\n",
      "\n",
      "<label for=\"input_normal_nucleoli\">normal_nucleoli:</label>\n",
      "<input type=\"text\" name=\"form1-input_normal_nucleoli\" id=\"input_normal_nucleoli\" required><br>\n",
      "\n",
      "<label for=\"input_mitoses\">mitoses:</label>\n",
      "<input type=\"text\" name=\"form1-input_mitoses\" id=\"input_mitoses\" required><br>\n",
      "\n"
     ]
    }
   ],
   "source": [
    "for i in s:\n",
    "    print(f\"\"\"<label for=\"input_{i}\">{i}:</label>\n",
    "<input type=\"text\" name=\"form1-input_{i}\" id=\"input_{i}\" required><br>\\n\"\"\")"
   ]
  },
  {
   "cell_type": "code",
   "execution_count": 7,
   "metadata": {},
   "outputs": [
    {
     "name": "stdout",
     "output_type": "stream",
     "text": [
      "<label for=\"input_radius_mean\">Radius Mean:</label>\n",
      "<input type=\"text\" name=\"form1-input_radius_mean\" id=\"input_radius_mean\" required><br>\n",
      "\n"
     ]
    }
   ],
   "source": [
    "print(f\"\"\"<label for=\"input_radius_mean\">Radius Mean:</label>\n",
    "<input type=\"text\" name=\"form1-input_radius_mean\" id=\"input_radius_mean\" required><br>\\n\"\"\")"
   ]
  },
  {
   "cell_type": "code",
   "execution_count": 11,
   "metadata": {},
   "outputs": [
    {
     "name": "stdout",
     "output_type": "stream",
     "text": [
      "clump_thickness, uniformity_of_cell_size, uniformity_of_cell_shape, marginal_adhesion, single_epithelial_cell_size, bare_nuclei, bland_chromatin, normal_nucleoli, mitoses, "
     ]
    }
   ],
   "source": [
    "for i in s:\n",
    "    print(f\"{i}\",end=\", \")"
   ]
  }
 ],
 "metadata": {
  "kernelspec": {
   "display_name": "Python 3",
   "language": "python",
   "name": "python3"
  },
  "language_info": {
   "codemirror_mode": {
    "name": "ipython",
    "version": 3
   },
   "file_extension": ".py",
   "mimetype": "text/x-python",
   "name": "python",
   "nbconvert_exporter": "python",
   "pygments_lexer": "ipython3",
   "version": "3.10.7"
  },
  "orig_nbformat": 4,
  "vscode": {
   "interpreter": {
    "hash": "ad5481173928e125f3fdb4f3311da346b2650b40328f2fe78d4d2fd439336ee1"
   }
  }
 },
 "nbformat": 4,
 "nbformat_minor": 2
}
