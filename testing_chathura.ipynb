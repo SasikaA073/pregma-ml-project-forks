{
 "cells": [
  {
   "cell_type": "code",
   "execution_count": 87,
   "metadata": {},
   "outputs": [],
   "source": [
    "\n",
    "# A sample input dictionary with float vales\n",
    "inputDict =  {\"systolicBP\": 120.0, \"diastolicBP\": 80.0, \"blood_sugar\": 120.0, \"body_temp\": 98.0, \"heart_rate\": 80.0, \"age\": 35.0}"
   ]
  },
  {
   "cell_type": "code",
   "execution_count": 88,
   "metadata": {},
   "outputs": [],
   "source": [
    "# Taking parameters (N=normal, L=low, H=high)\n",
    "# Format : inputDict = {\"systolicBP\": None, \"diastolicBP\": None, \"blood_sugar\": None, \"body_temp\": None, \"heart_rate\": None, \"month\": None, \"age\": None}\n",
    "def getdiagnosis(inputDict):\n",
    "    outputString = None\n",
    "\n",
    "    \n",
    "    # Evaluate the ranges of the parameters\n",
    "    if 90 <= inputDict[\"systolicBP\"] <= 120:\n",
    "        inputDict[\"systolicBP\"] = \"N--\"\n",
    "    elif inputDict[\"systolicBP\"] < 90:\n",
    "        inputDict[\"systolicBP\"] = \"L--\"\n",
    "    else:\n",
    "        inputDict[\"systolicBP\"] = \"H--\"\n",
    "\n",
    "    if 60 <= inputDict[\"diastolicBP\"] <= 80:\n",
    "        inputDict[\"diastolicBP\"] = \"N--\"\n",
    "    elif inputDict[\"diastolicBP\"] < 60:\n",
    "        inputDict[\"diastolicBP\"] = \"L--\"\n",
    "    else:\n",
    "        inputDict[\"diastolicBP\"] = \"H--\"\n",
    "\n",
    "    if 100 <= inputDict[\"blood_sugar\"] <= 125:\n",
    "        inputDict[\"blood_sugar\"] = \"N--\"\n",
    "    elif inputDict[\"blood_sugar\"] < 100:\n",
    "        inputDict[\"blood_sugar\"] = \"L--\"\n",
    "    else:\n",
    "        inputDict[\"blood_sugar\"] = \"H--\"\n",
    "\n",
    "    if 36.5 <= inputDict[\"body_temp\"] <= 37.5:\n",
    "        inputDict[\"body_temp\"] = \"N--\"\n",
    "    elif inputDict[\"body_temp\"] < 36.5:\n",
    "        inputDict[\"body_temp\"] = \"L--\"\n",
    "    else:\n",
    "        inputDict[\"body_temp\"] = \"H--\"\n",
    "\n",
    "    if 60 <= inputDict[\"heart_rate\"] <= 100:\n",
    "        inputDict[\"heart_rate\"] = \"N--\"\n",
    "    elif inputDict[\"heart_rate\"] < 60:\n",
    "        inputDict[\"heart_rate\"] = \"L--\"\n",
    "    else:\n",
    "        inputDict[\"heart_rate\"] = \"H--\"\n",
    "\n",
    "    if 18 <= inputDict[\"age\"] <= 45:\n",
    "        inputDict[\"age\"] = \"N--\"\n",
    "    elif inputDict[\"age\"] < 18:\n",
    "        inputDict[\"age\"] = \"L--\"\n",
    "    else:\n",
    "        inputDict[\"age\"] = \"H--\"\n",
    "\n",
    "    # Decode the output\n",
    "    for parameter in inputDict:\n",
    "        if inputDict[parameter] == \"N--\":\n",
    "            pass\n",
    "        elif inputDict[parameter] == \"L--\":\n",
    "            match parameter:\n",
    "                case \"systolicBP\":\n",
    "                    outputString += \"Patient's systolic blood pressure is low. This patient has a risk of having cold and clammy skin, fainting, dizziness, fatigue, nausea,breathing difficulities and vomiting.\\n\"\n",
    "                case \"diastolicBP\":\n",
    "                    outputString += \"Patient's diastolic blood pressure is low. This patient has a increased risk of having heart diseasses.\\n\"\n",
    "                case \"blood_sugar\":\n",
    "                    outputString += \"Patient's blood sugar is not adequate. This can cause hormonal changes and may result in long term health effects.\\n\"\n",
    "                case \"body_temp\":\n",
    "                    outputString += \"Patient's body temperature is below the threshold. She will have a risk of having organ failiures and increased vulnerabilities to infections.\\n\"\n",
    "                case \"heart_rate\":\n",
    "                    outputString += \"Your patient's heart rate is low.This may result in reduced blood flow to the brain and other vital organs.\\n\"\n",
    "                case \"age\":\n",
    "                    outputString += \"Your patient's age can cause pre mature births if not diagnosed properly in upcoming trimesters.\\n\"\n",
    "        else:\n",
    "            match parameter:\n",
    "                case \"systolicBP\":\n",
    "                    outputString += \"Patient's systolic blood pressure is high. This can cause kidney diseases, Cardiovascular diseases, vision loss, angina and peripheral artery disease.\\n\"\n",
    "                case \"diastolicBP\":\n",
    "                    outputString += \"Your patients diastolic blood pressure is beyond the normal range.She has a risk of cardiovascular disease,eye damages and vulnerebility to dimentia\\n\"\n",
    "                case \"blood_sugar\":\n",
    "                    outputString += \"Patient's blood sugar is high. This can damage her blood vessels and nerves and can be a cause for being vulnerable to infections.\\n \"\n",
    "                case \"body_temp\":\n",
    "                    outputString += \"Patient's body temperature is high and not in the normal range. May cause dehydration and other health issues.\\n\"\n",
    "                case \"heart_rate\":\n",
    "                    outputString += \"Your heart rate is above the threshold and this can cause reduced cardio ouput.\"\n",
    "                case \"age\":\n",
    "                    outputString += \"Patient is somewhat older. This can cause low birth weights of child, pre mature births and other pregnancy complications\\n\"\n",
    "        \n",
    "        if outputString == None:\n",
    "            outputString = \"You are healthy. Please maintain your health.\"\n",
    "        return outputString\n",
    "            "
   ]
  },
  {
   "cell_type": "code",
   "execution_count": 89,
   "metadata": {},
   "outputs": [
    {
     "data": {
      "text/plain": [
       "'You are healthy. Please maintain your health.'"
      ]
     },
     "execution_count": 89,
     "metadata": {},
     "output_type": "execute_result"
    }
   ],
   "source": [
    "#This is a test case for the above function.\n",
    "getdiagnosis(inputDict)"
   ]
  },
  {
   "cell_type": "code",
   "execution_count": 29,
   "metadata": {},
   "outputs": [],
   "source": [
    "#This functions reads patientID.txt and increments it by 1. Returns it and writes it to the same file\n",
    "def getPatientID():\n",
    "    f = open(\"patientID.txt\", \"r\")\n",
    "    patientID = int(f.read())\n",
    "    f.close()\n",
    "    f = open(\"patientID.txt\", \"w\")\n",
    "    f.write(str(patientID+1)) #writing the next ID to the file\n",
    "    f.close()\n",
    "    return f'P{patientID:03d}'\n"
   ]
  },
  {
   "cell_type": "code",
   "execution_count": 82,
   "metadata": {},
   "outputs": [
    {
     "name": "stdout",
     "output_type": "stream",
     "text": [
      "P053\n"
     ]
    }
   ],
   "source": [
    "# This is a test call for the above function\n",
    "print(getPatientID())\n",
    "\n",
    "# Uncomment following two lines to reset the patient ID to 1\n",
    "# f = open(\"patientID.txt\", \"w\")\n",
    "# f.write(\"1\")"
   ]
  }
 ],
 "metadata": {
  "kernelspec": {
   "display_name": "venv",
   "language": "python",
   "name": "python3"
  },
  "language_info": {
   "codemirror_mode": {
    "name": "ipython",
    "version": 3
   },
   "file_extension": ".py",
   "mimetype": "text/x-python",
   "name": "python",
   "nbconvert_exporter": "python",
   "pygments_lexer": "ipython3",
   "version": "3.10.5"
  },
  "orig_nbformat": 4,
  "vscode": {
   "interpreter": {
    "hash": "8c309ea465ad8031d7bdc592f2768f6186c40c7b7260f5fa54eec32ab3997742"
   }
  }
 },
 "nbformat": 4,
 "nbformat_minor": 2
}
