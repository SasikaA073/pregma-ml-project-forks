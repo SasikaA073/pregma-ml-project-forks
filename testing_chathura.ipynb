{
 "cells": [
  {
   "cell_type": "code",
   "execution_count": null,
   "metadata": {},
   "outputs": [],
   "source": []
  }
 ],
 "metadata": {
  "kernelspec": {
   "display_name": "venv",
   "language": "python",
   "name": "python3"
  },
  "language_info": {
   "name": "python",
   "version": "3.10.7 (tags/v3.10.7:6cc6b13, Sep  5 2022, 14:08:36) [MSC v.1933 64 bit (AMD64)]"
  },
  "orig_nbformat": 4,
  "vscode": {
   "interpreter": {
    "hash": "8c309ea465ad8031d7bdc592f2768f6186c40c7b7260f5fa54eec32ab3997742"
   }
  }
 },
 "nbformat": 4,
 "nbformat_minor": 2
}
