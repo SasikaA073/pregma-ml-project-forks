{
 "cells": [
  {
   "cell_type": "code",
   "execution_count": 1,
   "metadata": {},
   "outputs": [],
   "source": [
    "\n",
    "# A sample input dictionary with float vales\n",
    "inputDict =  {\"systolicBP\": 120.0, \"diastolicBP\": 80.0, \"blood_sugar\": 120.0, \"body_temp\": 98.0, \"heart_rate\": 80.0, \"month\": 1.0}"
   ]
  },
  {
   "cell_type": "code",
   "execution_count": 2,
   "metadata": {},
   "outputs": [
    {
     "name": "stdout",
     "output_type": "stream",
     "text": [
      "body_temp is high!\n",
      "month is high!\n",
      "\n"
     ]
    }
   ],
   "source": [
    "# Taking parameters (N=normal, L=low, H=high)\n",
    "# inputDict = {\"systolicBP\": None, \"diastolicBP\": None, \"blood_sugar\": None, \"body_temp\": None, \"heart_rate\": None, \"month\": None, \"age\": None}\n",
    "outputString = ''\n",
    "\n",
    "# Get inputs for the parameters\n",
    "# for key in inputDict:\n",
    "#     inputDict[key] = float(input())\n",
    "\n",
    "# Evaluate the ranges of the parameters\n",
    "if 90 <= inputDict[\"systolicBP\"] <= 120:\n",
    "    inputDict[\"systolicBP\"] = \"N--\"\n",
    "elif inputDict[\"systolicBP\"] < 90:\n",
    "    inputDict[\"systolicBP\"] = \"L--\"\n",
    "else:\n",
    "    inputDict[\"systolicBP\"] = \"H--\"\n",
    "\n",
    "if 60 <= inputDict[\"diastolicBP\"] <= 80:\n",
    "    inputDict[\"diastolicBP\"] = \"N--\"\n",
    "elif inputDict[\"diastolicBP\"] < 60:\n",
    "    inputDict[\"diastolicBP\"] = \"L--\"\n",
    "else:\n",
    "    inputDict[\"diastolicBP\"] = \"H--\"\n",
    "\n",
    "if 100 <= inputDict[\"blood_sugar\"] <= 125:\n",
    "    inputDict[\"blood_sugar\"] = \"N--\"\n",
    "elif inputDict[\"blood_sugar\"] < 100:\n",
    "    inputDict[\"blood_sugar\"] = \"L--\"\n",
    "else:\n",
    "    inputDict[\"blood_sugar\"] = \"H--\"\n",
    "\n",
    "if 36.5 <= inputDict[\"body_temp\"] <= 37.5:\n",
    "    inputDict[\"body_temp\"] = \"N--\"\n",
    "elif inputDict[\"body_temp\"] < 36.5:\n",
    "    inputDict[\"body_temp\"] = \"L--\"\n",
    "else:\n",
    "    inputDict[\"body_temp\"] = \"H--\"\n",
    "\n",
    "if 60 <= inputDict[\"heart_rate\"] <= 100:\n",
    "    inputDict[\"heart_rate\"] = \"N--\"\n",
    "elif inputDict[\"heart_rate\"] < 60:\n",
    "    inputDict[\"heart_rate\"] = \"L--\"\n",
    "else:\n",
    "    inputDict[\"heart_rate\"] = \"H--\"\n",
    "\n",
    "# Decode the output\n",
    "for parameter in inputDict:\n",
    "    if inputDict[parameter] == \"N--\":\n",
    "        pass\n",
    "    elif inputDict[parameter] == \"L--\":\n",
    "        outputString += parameter + \" is low!\\n\"\n",
    "    elif not(parameter=='age'): # change this code when age is included\n",
    "        outputString += parameter + \" is high!\\n\"\n",
    "\n",
    "print(outputString)"
   ]
  },
  {
   "cell_type": "code",
   "execution_count": 29,
   "metadata": {},
   "outputs": [],
   "source": [
    "#This functions reads patientID.txt and increments it by 1. Returns it and writes it to the same file\n",
    "def getPatientID():\n",
    "    f = open(\"patientID.txt\", \"r\")\n",
    "    patientID = int(f.read())\n",
    "    f.close()\n",
    "    f = open(\"patientID.txt\", \"w\")\n",
    "    f.write(str(patientID+1)) #writing the next ID to the file\n",
    "    f.close()\n",
    "    return f'P{patientID:03d}'\n"
   ]
  },
  {
   "cell_type": "code",
   "execution_count": 82,
   "metadata": {},
   "outputs": [
    {
     "name": "stdout",
     "output_type": "stream",
     "text": [
      "P053\n"
     ]
    }
   ],
   "source": [
    "# This is a test call for the above function\n",
    "print(getPatientID())\n",
    "\n",
    "# Uncomment following two lines to reset the patient ID to 1\n",
    "# f = open(\"patientID.txt\", \"w\")\n",
    "# f.write(\"1\")"
   ]
  }
 ],
 "metadata": {
  "kernelspec": {
   "display_name": "venv",
   "language": "python",
   "name": "python3"
  },
  "language_info": {
   "codemirror_mode": {
    "name": "ipython",
    "version": 3
   },
   "file_extension": ".py",
   "mimetype": "text/x-python",
   "name": "python",
   "nbconvert_exporter": "python",
   "pygments_lexer": "ipython3",
   "version": "3.10.5"
  },
  "orig_nbformat": 4,
  "vscode": {
   "interpreter": {
    "hash": "8c309ea465ad8031d7bdc592f2768f6186c40c7b7260f5fa54eec32ab3997742"
   }
  }
 },
 "nbformat": 4,
 "nbformat_minor": 2
}
